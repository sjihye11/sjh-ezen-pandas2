{
 "cells": [
  {
   "cell_type": "code",
   "execution_count": 1,
   "metadata": {},
   "outputs": [],
   "source": [
    "import pandas as pd"
   ]
  },
  {
   "cell_type": "markdown",
   "metadata": {},
   "source": [
    "1. csv 폴더에 있는 uriage.csv 로드\n",
    "2. 데이터의 이상 체크\n",
    "    - 결측치가 존재하는가?\n",
    "    - 데이터의 정형화가 잘 되어있는가?\n",
    "3. 문제가 있는 데이터를 수정(데이터의 전처리)"
   ]
  },
  {
   "cell_type": "code",
   "execution_count": 3,
   "metadata": {},
   "outputs": [],
   "source": [
    "uriage = pd.read_csv(\"../csv/uriage.csv\")"
   ]
  },
  {
   "cell_type": "code",
   "execution_count": 4,
   "metadata": {},
   "outputs": [
    {
     "name": "stdout",
     "output_type": "stream",
     "text": [
      "<class 'pandas.core.frame.DataFrame'>\n",
      "RangeIndex: 2999 entries, 0 to 2998\n",
      "Data columns (total 4 columns):\n",
      " #   Column         Non-Null Count  Dtype  \n",
      "---  ------         --------------  -----  \n",
      " 0   purchase_date  2999 non-null   object \n",
      " 1   item_name      2999 non-null   object \n",
      " 2   item_price     2612 non-null   float64\n",
      " 3   customer_name  2999 non-null   object \n",
      "dtypes: float64(1), object(3)\n",
      "memory usage: 93.8+ KB\n"
     ]
    }
   ],
   "source": [
    "# 결측치가 존재하는가?\n",
    "uriage.info()"
   ]
  },
  {
   "cell_type": "code",
   "execution_count": 5,
   "metadata": {},
   "outputs": [
    {
     "data": {
      "text/plain": [
       "purchase_date      0\n",
       "item_name          0\n",
       "item_price       387\n",
       "customer_name      0\n",
       "dtype: int64"
      ]
     },
     "execution_count": 5,
     "metadata": {},
     "output_type": "execute_result"
    }
   ],
   "source": [
    "# 결측치의 개수를 확인\n",
    "uriage.isna().sum()"
   ]
  },
  {
   "cell_type": "code",
   "execution_count": 6,
   "metadata": {},
   "outputs": [
    {
     "data": {
      "text/html": [
       "<div>\n",
       "<style scoped>\n",
       "    .dataframe tbody tr th:only-of-type {\n",
       "        vertical-align: middle;\n",
       "    }\n",
       "\n",
       "    .dataframe tbody tr th {\n",
       "        vertical-align: top;\n",
       "    }\n",
       "\n",
       "    .dataframe thead th {\n",
       "        text-align: right;\n",
       "    }\n",
       "</style>\n",
       "<table border=\"1\" class=\"dataframe\">\n",
       "  <thead>\n",
       "    <tr style=\"text-align: right;\">\n",
       "      <th></th>\n",
       "      <th>purchase_date</th>\n",
       "      <th>item_name</th>\n",
       "      <th>item_price</th>\n",
       "      <th>customer_name</th>\n",
       "    </tr>\n",
       "  </thead>\n",
       "  <tbody>\n",
       "    <tr>\n",
       "      <th>0</th>\n",
       "      <td>2019-06-13 18:02</td>\n",
       "      <td>상품A</td>\n",
       "      <td>100.0</td>\n",
       "      <td>김가온</td>\n",
       "    </tr>\n",
       "    <tr>\n",
       "      <th>1</th>\n",
       "      <td>2019-07-13 13:05</td>\n",
       "      <td>상 품 S</td>\n",
       "      <td>NaN</td>\n",
       "      <td>김우찬</td>\n",
       "    </tr>\n",
       "    <tr>\n",
       "      <th>2</th>\n",
       "      <td>2019-05-11 19:42</td>\n",
       "      <td>상 품 a</td>\n",
       "      <td>NaN</td>\n",
       "      <td>김유찬</td>\n",
       "    </tr>\n",
       "    <tr>\n",
       "      <th>3</th>\n",
       "      <td>2019-02-12 23:40</td>\n",
       "      <td>상품Z</td>\n",
       "      <td>2600.0</td>\n",
       "      <td>김재현</td>\n",
       "    </tr>\n",
       "    <tr>\n",
       "      <th>4</th>\n",
       "      <td>2019-04-22 3:09</td>\n",
       "      <td>상품a</td>\n",
       "      <td>NaN</td>\n",
       "      <td>김강현</td>\n",
       "    </tr>\n",
       "  </tbody>\n",
       "</table>\n",
       "</div>"
      ],
      "text/plain": [
       "      purchase_date item_name  item_price customer_name\n",
       "0  2019-06-13 18:02       상품A       100.0           김가온\n",
       "1  2019-07-13 13:05     상 품 S         NaN           김우찬\n",
       "2  2019-05-11 19:42     상 품 a         NaN           김유찬\n",
       "3  2019-02-12 23:40       상품Z      2600.0           김재현\n",
       "4   2019-04-22 3:09       상품a         NaN           김강현"
      ]
     },
     "execution_count": 6,
     "metadata": {},
     "output_type": "execute_result"
    }
   ],
   "source": [
    "uriage.head()"
   ]
  },
  {
   "cell_type": "code",
   "execution_count": 9,
   "metadata": {},
   "outputs": [
    {
     "data": {
      "text/plain": [
       "0         상품A\n",
       "1       상 품 S\n",
       "2       상 품 A\n",
       "3         상품Z\n",
       "4         상품A\n",
       "        ...  \n",
       "2994      상품Y\n",
       "2995      상품M\n",
       "2996      상품Q\n",
       "2997      상품H\n",
       "2998      상품D\n",
       "Name: item_name, Length: 2999, dtype: object"
      ]
     },
     "execution_count": 9,
     "metadata": {},
     "output_type": "execute_result"
    }
   ],
   "source": [
    "# item_name의 데이터가 대,소문자 문제\n",
    "# 해결방법 -> 대문자든, 소문자든 하나로 통일\n",
    "uriage['item_name'].str.upper() #str안에 있는 upper를 쓰겠다."
   ]
  },
  {
   "cell_type": "code",
   "execution_count": 10,
   "metadata": {},
   "outputs": [
    {
     "data": {
      "text/plain": [
       "0         상품A\n",
       "1       상 품 S\n",
       "2       상 품 A\n",
       "3         상품Z\n",
       "4         상품A\n",
       "        ...  \n",
       "2994      상품Y\n",
       "2995      상품M\n",
       "2996      상품Q\n",
       "2997      상품H\n",
       "2998      상품D\n",
       "Name: item_name, Length: 2999, dtype: object"
      ]
     },
     "execution_count": 10,
     "metadata": {},
     "output_type": "execute_result"
    }
   ],
   "source": [
    "# item_name의 데이터가 대,소문자 문제\n",
    "# 해결방법 -> 대문자든, 소문자든 하나로 통일\n",
    "## 선생님은 upply를 쓰는 걸 추천합니당.\n",
    "\n",
    "# apply(일반함수)\n",
    "def change(x):\n",
    "    # 매개변수 x에 들어오는 데이터는? -> item_name의 각각의 데이터들\n",
    "    # 매개변수 x의 데이터의 타입은 문자열\n",
    "    result = x.upper()\n",
    "    return result\n",
    "    \n",
    "uriage['item_name'].apply(change)"
   ]
  },
  {
   "cell_type": "code",
   "execution_count": 12,
   "metadata": {},
   "outputs": [
    {
     "data": {
      "text/plain": [
       "0         상품A\n",
       "1       상 품 S\n",
       "2       상 품 A\n",
       "3         상품Z\n",
       "4         상품A\n",
       "        ...  \n",
       "2994      상품Y\n",
       "2995      상품M\n",
       "2996      상품Q\n",
       "2997      상품H\n",
       "2998      상품D\n",
       "Name: item_name, Length: 2999, dtype: object"
      ]
     },
     "execution_count": 12,
     "metadata": {},
     "output_type": "execute_result"
    }
   ],
   "source": [
    "# item_name의 데이터가 대,소문자 문제\n",
    "# 해결방법 -> 대문자든, 소문자든 하나로 통일\n",
    "## 선생님은 upply를 쓰는 걸 추천합니당.\n",
    "\n",
    "# apply(lambda함수)\n",
    "\n",
    "uriage['item_name'].apply(\n",
    "    lambda x : x.upper()\n",
    ")"
   ]
  },
  {
   "cell_type": "code",
   "execution_count": 17,
   "metadata": {},
   "outputs": [
    {
     "data": {
      "text/plain": [
       "0       상품A\n",
       "1       상품S\n",
       "2       상품a\n",
       "3       상품Z\n",
       "4       상품a\n",
       "       ... \n",
       "2994    상품Y\n",
       "2995    상품M\n",
       "2996    상품Q\n",
       "2997    상품H\n",
       "2998    상품D\n",
       "Name: item_name, Length: 2999, dtype: object"
      ]
     },
     "execution_count": 17,
     "metadata": {},
     "output_type": "execute_result"
    }
   ],
   "source": [
    "# item_name의 데이터가 문자열 사이에 공백이 존재\n",
    "# 해결방법 -> 문자열에 공백을 모두 제거\n",
    "uriage['item_name'].str.replace(' ', '') #str 기능 안에 있는 replace를 쓰겠다."
   ]
  },
  {
   "cell_type": "code",
   "execution_count": 20,
   "metadata": {},
   "outputs": [
    {
     "data": {
      "text/plain": [
       "0       상품A\n",
       "1       상품S\n",
       "2       상품A\n",
       "3       상품Z\n",
       "4       상품A\n",
       "       ... \n",
       "2994    상품Y\n",
       "2995    상품M\n",
       "2996    상품Q\n",
       "2997    상품H\n",
       "2998    상품D\n",
       "Name: item_name, Length: 2999, dtype: object"
      ]
     },
     "execution_count": 20,
     "metadata": {},
     "output_type": "execute_result"
    }
   ],
   "source": [
    "# 스리즈 형태의 데이터를 공백을 제거, 대문자로 변환 (한번에)\n",
    "def change(x):\n",
    "    result = x.upper().replace(' ', '')\n",
    "    return result\n",
    "    \n",
    "uriage['item_name'].apply(change)"
   ]
  },
  {
   "cell_type": "code",
   "execution_count": 21,
   "metadata": {},
   "outputs": [
    {
     "data": {
      "text/plain": [
       "0       상품A\n",
       "1       상품S\n",
       "2       상품A\n",
       "3       상품Z\n",
       "4       상품A\n",
       "       ... \n",
       "2994    상품Y\n",
       "2995    상품M\n",
       "2996    상품Q\n",
       "2997    상품H\n",
       "2998    상품D\n",
       "Name: item_name, Length: 2999, dtype: object"
      ]
     },
     "execution_count": 21,
     "metadata": {},
     "output_type": "execute_result"
    }
   ],
   "source": [
    "# 스리즈 형태의 데이터를 공백을 제거, 대문자로 변환 (한번에)\n",
    "def change(x):\n",
    "    result = x.upper()\n",
    "    result = result.replace(' ', '')\n",
    "    return result\n",
    "    \n",
    "uriage['item_name'].apply(change)"
   ]
  },
  {
   "cell_type": "code",
   "execution_count": 22,
   "metadata": {},
   "outputs": [
    {
     "data": {
      "text/plain": [
       "0       상품A\n",
       "1       상품S\n",
       "2       상품A\n",
       "3       상품Z\n",
       "4       상품A\n",
       "       ... \n",
       "2994    상품Y\n",
       "2995    상품M\n",
       "2996    상품Q\n",
       "2997    상품H\n",
       "2998    상품D\n",
       "Name: item_name, Length: 2999, dtype: object"
      ]
     },
     "execution_count": 22,
     "metadata": {},
     "output_type": "execute_result"
    }
   ],
   "source": [
    "# lambda 사용\n",
    "uriage['item_name'].apply(\n",
    "    lambda x : x.upper().replace(' ','')\n",
    ")"
   ]
  },
  {
   "cell_type": "code",
   "execution_count": 24,
   "metadata": {},
   "outputs": [
    {
     "data": {
      "text/plain": [
       "0       상품A\n",
       "1       상품S\n",
       "2       상품A\n",
       "3       상품Z\n",
       "4       상품A\n",
       "       ... \n",
       "2994    상품Y\n",
       "2995    상품M\n",
       "2996    상품Q\n",
       "2997    상품H\n",
       "2998    상품D\n",
       "Name: item_name, Length: 2999, dtype: object"
      ]
     },
     "execution_count": 24,
     "metadata": {},
     "output_type": "execute_result"
    }
   ],
   "source": [
    "# uriage['item_name'].str.upper() #여기까지의 데이터의 형태는 스리즈\n",
    "# uriage['item_name'].str.upper().replace(\" \",\"\") #이렇게 하면 실패\n",
    "\n",
    "uriage['item_name'].str.upper().str.replace(\" \",\"\")"
   ]
  },
  {
   "cell_type": "code",
   "execution_count": 25,
   "metadata": {},
   "outputs": [],
   "source": [
    "uriage['item_name'] = uriage['item_name'].str.upper().str.replace(\" \",\"\")"
   ]
  },
  {
   "cell_type": "code",
   "execution_count": 26,
   "metadata": {},
   "outputs": [
    {
     "data": {
      "text/plain": [
       "item_name\n",
       "상품S    140\n",
       "상품A    139\n",
       "상품R    136\n",
       "상품P    135\n",
       "상품V    134\n",
       "상품C    133\n",
       "상품F    126\n",
       "상품D    125\n",
       "상품Q    125\n",
       "상품O    124\n",
       "상품W    121\n",
       "상품N    119\n",
       "상품T    117\n",
       "상품J    116\n",
       "상품X    116\n",
       "상품I    114\n",
       "상품B    113\n",
       "상품M    113\n",
       "상품L    110\n",
       "상품G    110\n",
       "상품K    109\n",
       "상품H    109\n",
       "상품U    107\n",
       "상품E    105\n",
       "상품Y    102\n",
       "상품Z      1\n",
       "Name: count, dtype: int64"
      ]
     },
     "execution_count": 26,
     "metadata": {},
     "output_type": "execute_result"
    }
   ],
   "source": [
    "# item_name의 값들의 개수 출력\n",
    "uriage['item_name'].value_counts()"
   ]
  },
  {
   "cell_type": "code",
   "execution_count": 32,
   "metadata": {},
   "outputs": [],
   "source": [
    "import numpy as np"
   ]
  },
  {
   "cell_type": "code",
   "execution_count": 33,
   "metadata": {},
   "outputs": [
    {
     "name": "stdout",
     "output_type": "stream",
     "text": [
      "False\n"
     ]
    }
   ],
   "source": [
    "# 결측치에 비교연산자를 사용하면 False로 고정\n",
    "# nan은 np에서 결측치라는 뜻\n",
    "a = np.nan\n",
    "b = np.nan\n",
    "print(a==b)"
   ]
  },
  {
   "cell_type": "code",
   "execution_count": 36,
   "metadata": {},
   "outputs": [
    {
     "data": {
      "text/html": [
       "<div>\n",
       "<style scoped>\n",
       "    .dataframe tbody tr th:only-of-type {\n",
       "        vertical-align: middle;\n",
       "    }\n",
       "\n",
       "    .dataframe tbody tr th {\n",
       "        vertical-align: top;\n",
       "    }\n",
       "\n",
       "    .dataframe thead th {\n",
       "        text-align: right;\n",
       "    }\n",
       "</style>\n",
       "<table border=\"1\" class=\"dataframe\">\n",
       "  <thead>\n",
       "    <tr style=\"text-align: right;\">\n",
       "      <th></th>\n",
       "      <th>purchase_date</th>\n",
       "      <th>item_name</th>\n",
       "      <th>item_price</th>\n",
       "      <th>customer_name</th>\n",
       "    </tr>\n",
       "  </thead>\n",
       "  <tbody>\n",
       "    <tr>\n",
       "      <th>0</th>\n",
       "      <td>2019-06-13 18:02</td>\n",
       "      <td>상품A</td>\n",
       "      <td>100.0</td>\n",
       "      <td>김가온</td>\n",
       "    </tr>\n",
       "    <tr>\n",
       "      <th>3</th>\n",
       "      <td>2019-02-12 23:40</td>\n",
       "      <td>상품Z</td>\n",
       "      <td>2600.0</td>\n",
       "      <td>김재현</td>\n",
       "    </tr>\n",
       "    <tr>\n",
       "      <th>5</th>\n",
       "      <td>2019-03-20 19:16</td>\n",
       "      <td>상품S</td>\n",
       "      <td>1900.0</td>\n",
       "      <td>김우진</td>\n",
       "    </tr>\n",
       "    <tr>\n",
       "      <th>7</th>\n",
       "      <td>2019-04-18 0:14</td>\n",
       "      <td>상품V</td>\n",
       "      <td>2200.0</td>\n",
       "      <td>김민혁</td>\n",
       "    </tr>\n",
       "    <tr>\n",
       "      <th>8</th>\n",
       "      <td>2019-01-10 15:51</td>\n",
       "      <td>상품O</td>\n",
       "      <td>1500.0</td>\n",
       "      <td>김선우</td>\n",
       "    </tr>\n",
       "    <tr>\n",
       "      <th>...</th>\n",
       "      <td>...</td>\n",
       "      <td>...</td>\n",
       "      <td>...</td>\n",
       "      <td>...</td>\n",
       "    </tr>\n",
       "    <tr>\n",
       "      <th>2991</th>\n",
       "      <td>2019-02-18 14:36</td>\n",
       "      <td>상품W</td>\n",
       "      <td>2300.0</td>\n",
       "      <td>김우빈</td>\n",
       "    </tr>\n",
       "    <tr>\n",
       "      <th>2993</th>\n",
       "      <td>2019-01-25 3:57</td>\n",
       "      <td>상품C</td>\n",
       "      <td>300.0</td>\n",
       "      <td>김이안</td>\n",
       "    </tr>\n",
       "    <tr>\n",
       "      <th>2994</th>\n",
       "      <td>2019-02-15 2:56</td>\n",
       "      <td>상품Y</td>\n",
       "      <td>2500.0</td>\n",
       "      <td>김정민</td>\n",
       "    </tr>\n",
       "    <tr>\n",
       "      <th>2995</th>\n",
       "      <td>2019-06-22 4:03</td>\n",
       "      <td>상품M</td>\n",
       "      <td>1300.0</td>\n",
       "      <td>김재원</td>\n",
       "    </tr>\n",
       "    <tr>\n",
       "      <th>2998</th>\n",
       "      <td>2019-07-21 0:31</td>\n",
       "      <td>상품D</td>\n",
       "      <td>400.0</td>\n",
       "      <td>정준기</td>\n",
       "    </tr>\n",
       "  </tbody>\n",
       "</table>\n",
       "<p>2612 rows × 4 columns</p>\n",
       "</div>"
      ],
      "text/plain": [
       "         purchase_date item_name  item_price customer_name\n",
       "0     2019-06-13 18:02       상품A       100.0           김가온\n",
       "3     2019-02-12 23:40       상품Z      2600.0           김재현\n",
       "5     2019-03-20 19:16       상품S      1900.0           김우진\n",
       "7      2019-04-18 0:14       상품V      2200.0           김민혁\n",
       "8     2019-01-10 15:51       상품O      1500.0           김선우\n",
       "...                ...       ...         ...           ...\n",
       "2991  2019-02-18 14:36       상품W      2300.0           김우빈\n",
       "2993   2019-01-25 3:57       상품C       300.0           김이안\n",
       "2994   2019-02-15 2:56       상품Y      2500.0           김정민\n",
       "2995   2019-06-22 4:03       상품M      1300.0           김재원\n",
       "2998   2019-07-21 0:31       상품D       400.0           정준기\n",
       "\n",
       "[2612 rows x 4 columns]"
      ]
     },
     "execution_count": 36,
     "metadata": {},
     "output_type": "execute_result"
    }
   ],
   "source": [
    "# item_price의 결측치인 데이터들을 확인\n",
    "\n",
    "uriage.loc[uriage['item_price'].isna() == 0]"
   ]
  },
  {
   "cell_type": "code",
   "execution_count": 38,
   "metadata": {},
   "outputs": [
    {
     "data": {
      "text/html": [
       "<div>\n",
       "<style scoped>\n",
       "    .dataframe tbody tr th:only-of-type {\n",
       "        vertical-align: middle;\n",
       "    }\n",
       "\n",
       "    .dataframe tbody tr th {\n",
       "        vertical-align: top;\n",
       "    }\n",
       "\n",
       "    .dataframe thead th {\n",
       "        text-align: right;\n",
       "    }\n",
       "</style>\n",
       "<table border=\"1\" class=\"dataframe\">\n",
       "  <thead>\n",
       "    <tr style=\"text-align: right;\">\n",
       "      <th></th>\n",
       "      <th>purchase_date</th>\n",
       "      <th>item_name</th>\n",
       "      <th>item_price</th>\n",
       "      <th>customer_name</th>\n",
       "    </tr>\n",
       "  </thead>\n",
       "  <tbody>\n",
       "    <tr>\n",
       "      <th>0</th>\n",
       "      <td>2019-06-13 18:02</td>\n",
       "      <td>상품A</td>\n",
       "      <td>100.0</td>\n",
       "      <td>김가온</td>\n",
       "    </tr>\n",
       "    <tr>\n",
       "      <th>3</th>\n",
       "      <td>2019-02-12 23:40</td>\n",
       "      <td>상품Z</td>\n",
       "      <td>2600.0</td>\n",
       "      <td>김재현</td>\n",
       "    </tr>\n",
       "    <tr>\n",
       "      <th>5</th>\n",
       "      <td>2019-03-20 19:16</td>\n",
       "      <td>상품S</td>\n",
       "      <td>1900.0</td>\n",
       "      <td>김우진</td>\n",
       "    </tr>\n",
       "    <tr>\n",
       "      <th>7</th>\n",
       "      <td>2019-04-18 0:14</td>\n",
       "      <td>상품V</td>\n",
       "      <td>2200.0</td>\n",
       "      <td>김민혁</td>\n",
       "    </tr>\n",
       "    <tr>\n",
       "      <th>8</th>\n",
       "      <td>2019-01-10 15:51</td>\n",
       "      <td>상품O</td>\n",
       "      <td>1500.0</td>\n",
       "      <td>김선우</td>\n",
       "    </tr>\n",
       "    <tr>\n",
       "      <th>...</th>\n",
       "      <td>...</td>\n",
       "      <td>...</td>\n",
       "      <td>...</td>\n",
       "      <td>...</td>\n",
       "    </tr>\n",
       "    <tr>\n",
       "      <th>2991</th>\n",
       "      <td>2019-02-18 14:36</td>\n",
       "      <td>상품W</td>\n",
       "      <td>2300.0</td>\n",
       "      <td>김우빈</td>\n",
       "    </tr>\n",
       "    <tr>\n",
       "      <th>2993</th>\n",
       "      <td>2019-01-25 3:57</td>\n",
       "      <td>상품C</td>\n",
       "      <td>300.0</td>\n",
       "      <td>김이안</td>\n",
       "    </tr>\n",
       "    <tr>\n",
       "      <th>2994</th>\n",
       "      <td>2019-02-15 2:56</td>\n",
       "      <td>상품Y</td>\n",
       "      <td>2500.0</td>\n",
       "      <td>김정민</td>\n",
       "    </tr>\n",
       "    <tr>\n",
       "      <th>2995</th>\n",
       "      <td>2019-06-22 4:03</td>\n",
       "      <td>상품M</td>\n",
       "      <td>1300.0</td>\n",
       "      <td>김재원</td>\n",
       "    </tr>\n",
       "    <tr>\n",
       "      <th>2998</th>\n",
       "      <td>2019-07-21 0:31</td>\n",
       "      <td>상품D</td>\n",
       "      <td>400.0</td>\n",
       "      <td>정준기</td>\n",
       "    </tr>\n",
       "  </tbody>\n",
       "</table>\n",
       "<p>2612 rows × 4 columns</p>\n",
       "</div>"
      ],
      "text/plain": [
       "         purchase_date item_name  item_price customer_name\n",
       "0     2019-06-13 18:02       상품A       100.0           김가온\n",
       "3     2019-02-12 23:40       상품Z      2600.0           김재현\n",
       "5     2019-03-20 19:16       상품S      1900.0           김우진\n",
       "7      2019-04-18 0:14       상품V      2200.0           김민혁\n",
       "8     2019-01-10 15:51       상품O      1500.0           김선우\n",
       "...                ...       ...         ...           ...\n",
       "2991  2019-02-18 14:36       상품W      2300.0           김우빈\n",
       "2993   2019-01-25 3:57       상품C       300.0           김이안\n",
       "2994   2019-02-15 2:56       상품Y      2500.0           김정민\n",
       "2995   2019-06-22 4:03       상품M      1300.0           김재원\n",
       "2998   2019-07-21 0:31       상품D       400.0           정준기\n",
       "\n",
       "[2612 rows x 4 columns]"
      ]
     },
     "execution_count": 38,
     "metadata": {},
     "output_type": "execute_result"
    }
   ],
   "source": [
    "# ~연산자는 스리즈형태의 데이터가 bool형태일 때 부정연산자로 사용이 가능\n",
    "uriage.loc[~(uriage['item_price'].isna())]"
   ]
  },
  {
   "cell_type": "code",
   "execution_count": 47,
   "metadata": {},
   "outputs": [],
   "source": [
    "# 상품A인 경우에는 결측치를 item_name이 상품A이고 item_price의 결측치를 제외한 평균값으로 대체\n",
    "# item_name은 상품A이다. & item_price가 결측치이다. 조건 두 개\n",
    "\n",
    "flag = uriage['item_name'] == '상품A'\n",
    "flag_null = uriage['item_price'].isna()\n",
    "\n",
    "# 조건식을 이용하여 item_name이 상품A이고, item_price가 결측치인 데이터를 확인\n",
    "# uriage.loc[ flag & flag_null]\n",
    "\n",
    "# 조건식을 이용하여 item_name이 상품A이고, item_price가 결측치가 아닌 데이터를 확인\n",
    "# uriage.loc[ flag & ~flag_null]\n",
    "\n",
    "# uriage.loc[ flag & ~flag_null , 'item_price'] #loc의 두번째 항에는 보고싶은 column의 조건을 넣으면 걔만 보여줌.\n",
    "\n",
    "# 상품의 이름이 상품A이고, item_price의 평균값 구하기\n",
    "# uriage.loc[ flag & ~flag_null , 'item_price'].mean()\n",
    "\n",
    "price_mean = uriage.loc[ flag & ~flag_null , 'item_price'].mean()"
   ]
  },
  {
   "cell_type": "code",
   "execution_count": 49,
   "metadata": {},
   "outputs": [],
   "source": [
    "uriage2=uriage.copy()"
   ]
  },
  {
   "cell_type": "code",
   "execution_count": 51,
   "metadata": {},
   "outputs": [],
   "source": [
    "# 상품A인 데이터에서 item_price가 결측치인 데이터에 price_mean을 대체 (방법 2개)\n",
    "\n",
    "uriage2.loc[flag & flag_null] = uriage2.loc[flag & flag_null].fillna(price_mean)"
   ]
  },
  {
   "cell_type": "code",
   "execution_count": 52,
   "metadata": {},
   "outputs": [
    {
     "data": {
      "text/html": [
       "<div>\n",
       "<style scoped>\n",
       "    .dataframe tbody tr th:only-of-type {\n",
       "        vertical-align: middle;\n",
       "    }\n",
       "\n",
       "    .dataframe tbody tr th {\n",
       "        vertical-align: top;\n",
       "    }\n",
       "\n",
       "    .dataframe thead th {\n",
       "        text-align: right;\n",
       "    }\n",
       "</style>\n",
       "<table border=\"1\" class=\"dataframe\">\n",
       "  <thead>\n",
       "    <tr style=\"text-align: right;\">\n",
       "      <th></th>\n",
       "      <th>purchase_date</th>\n",
       "      <th>item_name</th>\n",
       "      <th>item_price</th>\n",
       "      <th>customer_name</th>\n",
       "    </tr>\n",
       "  </thead>\n",
       "  <tbody>\n",
       "    <tr>\n",
       "      <th>2</th>\n",
       "      <td>2019-05-11 19:42</td>\n",
       "      <td>상품A</td>\n",
       "      <td>100.0</td>\n",
       "      <td>김유찬</td>\n",
       "    </tr>\n",
       "    <tr>\n",
       "      <th>4</th>\n",
       "      <td>2019-04-22 3:09</td>\n",
       "      <td>상품A</td>\n",
       "      <td>100.0</td>\n",
       "      <td>김강현</td>\n",
       "    </tr>\n",
       "    <tr>\n",
       "      <th>6</th>\n",
       "      <td>2019-05-18 19:16</td>\n",
       "      <td>상품A</td>\n",
       "      <td>100.0</td>\n",
       "      <td>김재준</td>\n",
       "    </tr>\n",
       "    <tr>\n",
       "      <th>14</th>\n",
       "      <td>2019-06-11 12:57</td>\n",
       "      <td>상품A</td>\n",
       "      <td>100.0</td>\n",
       "      <td>김재호</td>\n",
       "    </tr>\n",
       "    <tr>\n",
       "      <th>300</th>\n",
       "      <td>2019-04-06 11:06</td>\n",
       "      <td>상품A</td>\n",
       "      <td>100.0</td>\n",
       "      <td>김태인</td>\n",
       "    </tr>\n",
       "    <tr>\n",
       "      <th>361</th>\n",
       "      <td>2019-01-21 3:33</td>\n",
       "      <td>상품A</td>\n",
       "      <td>100.0</td>\n",
       "      <td>김진우</td>\n",
       "    </tr>\n",
       "    <tr>\n",
       "      <th>667</th>\n",
       "      <td>2019-03-16 17:23</td>\n",
       "      <td>상품A</td>\n",
       "      <td>100.0</td>\n",
       "      <td>김주원</td>\n",
       "    </tr>\n",
       "    <tr>\n",
       "      <th>838</th>\n",
       "      <td>2019-06-24 5:06</td>\n",
       "      <td>상품A</td>\n",
       "      <td>100.0</td>\n",
       "      <td>김시호</td>\n",
       "    </tr>\n",
       "    <tr>\n",
       "      <th>844</th>\n",
       "      <td>2019-03-15 9:14</td>\n",
       "      <td>상품A</td>\n",
       "      <td>100.0</td>\n",
       "      <td>김강현</td>\n",
       "    </tr>\n",
       "    <tr>\n",
       "      <th>957</th>\n",
       "      <td>2019-07-19 14:12</td>\n",
       "      <td>상품A</td>\n",
       "      <td>100.0</td>\n",
       "      <td>김서윤</td>\n",
       "    </tr>\n",
       "    <tr>\n",
       "      <th>1260</th>\n",
       "      <td>2019-01-15 22:59</td>\n",
       "      <td>상품A</td>\n",
       "      <td>100.0</td>\n",
       "      <td>김하진</td>\n",
       "    </tr>\n",
       "    <tr>\n",
       "      <th>1394</th>\n",
       "      <td>2019-07-07 21:49</td>\n",
       "      <td>상품A</td>\n",
       "      <td>100.0</td>\n",
       "      <td>김은우</td>\n",
       "    </tr>\n",
       "    <tr>\n",
       "      <th>1474</th>\n",
       "      <td>2019-04-11 2:22</td>\n",
       "      <td>상품A</td>\n",
       "      <td>100.0</td>\n",
       "      <td>김선우</td>\n",
       "    </tr>\n",
       "    <tr>\n",
       "      <th>1892</th>\n",
       "      <td>2019-07-31 1:32</td>\n",
       "      <td>상품A</td>\n",
       "      <td>100.0</td>\n",
       "      <td>김윤찬</td>\n",
       "    </tr>\n",
       "    <tr>\n",
       "      <th>1937</th>\n",
       "      <td>2019-02-13 7:28</td>\n",
       "      <td>상품A</td>\n",
       "      <td>100.0</td>\n",
       "      <td>김시환</td>\n",
       "    </tr>\n",
       "    <tr>\n",
       "      <th>1977</th>\n",
       "      <td>2019-02-28 4:11</td>\n",
       "      <td>상품A</td>\n",
       "      <td>100.0</td>\n",
       "      <td>김서준</td>\n",
       "    </tr>\n",
       "    <tr>\n",
       "      <th>2063</th>\n",
       "      <td>2019-05-25 12:51</td>\n",
       "      <td>상품A</td>\n",
       "      <td>100.0</td>\n",
       "      <td>김재민</td>\n",
       "    </tr>\n",
       "    <tr>\n",
       "      <th>2278</th>\n",
       "      <td>2019-07-14 3:39</td>\n",
       "      <td>상품A</td>\n",
       "      <td>100.0</td>\n",
       "      <td>김시우</td>\n",
       "    </tr>\n",
       "    <tr>\n",
       "      <th>2636</th>\n",
       "      <td>2019-03-09 14:20</td>\n",
       "      <td>상품A</td>\n",
       "      <td>100.0</td>\n",
       "      <td>김우찬</td>\n",
       "    </tr>\n",
       "    <tr>\n",
       "      <th>2669</th>\n",
       "      <td>2019-03-05 20:21</td>\n",
       "      <td>상품A</td>\n",
       "      <td>100.0</td>\n",
       "      <td>김주혁</td>\n",
       "    </tr>\n",
       "    <tr>\n",
       "      <th>2732</th>\n",
       "      <td>2019-01-28 22:13</td>\n",
       "      <td>상품A</td>\n",
       "      <td>100.0</td>\n",
       "      <td>김윤호</td>\n",
       "    </tr>\n",
       "    <tr>\n",
       "      <th>2821</th>\n",
       "      <td>2019-06-21 11:09</td>\n",
       "      <td>상품A</td>\n",
       "      <td>100.0</td>\n",
       "      <td>김승훈</td>\n",
       "    </tr>\n",
       "  </tbody>\n",
       "</table>\n",
       "</div>"
      ],
      "text/plain": [
       "         purchase_date item_name  item_price customer_name\n",
       "2     2019-05-11 19:42       상품A       100.0           김유찬\n",
       "4      2019-04-22 3:09       상품A       100.0           김강현\n",
       "6     2019-05-18 19:16       상품A       100.0           김재준\n",
       "14    2019-06-11 12:57       상품A       100.0           김재호\n",
       "300   2019-04-06 11:06       상품A       100.0           김태인\n",
       "361    2019-01-21 3:33       상품A       100.0           김진우\n",
       "667   2019-03-16 17:23       상품A       100.0           김주원\n",
       "838    2019-06-24 5:06       상품A       100.0           김시호\n",
       "844    2019-03-15 9:14       상품A       100.0           김강현\n",
       "957   2019-07-19 14:12       상품A       100.0           김서윤\n",
       "1260  2019-01-15 22:59       상품A       100.0           김하진\n",
       "1394  2019-07-07 21:49       상품A       100.0           김은우\n",
       "1474   2019-04-11 2:22       상품A       100.0           김선우\n",
       "1892   2019-07-31 1:32       상품A       100.0           김윤찬\n",
       "1937   2019-02-13 7:28       상품A       100.0           김시환\n",
       "1977   2019-02-28 4:11       상품A       100.0           김서준\n",
       "2063  2019-05-25 12:51       상품A       100.0           김재민\n",
       "2278   2019-07-14 3:39       상품A       100.0           김시우\n",
       "2636  2019-03-09 14:20       상품A       100.0           김우찬\n",
       "2669  2019-03-05 20:21       상품A       100.0           김주혁\n",
       "2732  2019-01-28 22:13       상품A       100.0           김윤호\n",
       "2821  2019-06-21 11:09       상품A       100.0           김승훈"
      ]
     },
     "execution_count": 52,
     "metadata": {},
     "output_type": "execute_result"
    }
   ],
   "source": [
    "uriage2.loc[flag & flag_null] "
   ]
  },
  {
   "cell_type": "code",
   "execution_count": 57,
   "metadata": {},
   "outputs": [],
   "source": [
    "# 스리즈 형태의 데이터에 = '값'\n",
    "uriage2['customer_age'] = 20"
   ]
  },
  {
   "cell_type": "code",
   "execution_count": 58,
   "metadata": {},
   "outputs": [
    {
     "data": {
      "text/plain": [
       "0       20\n",
       "1       20\n",
       "2       20\n",
       "3       20\n",
       "4       20\n",
       "        ..\n",
       "2994    20\n",
       "2995    20\n",
       "2996    20\n",
       "2997    20\n",
       "2998    20\n",
       "Name: customer_age, Length: 2999, dtype: int64"
      ]
     },
     "execution_count": 58,
     "metadata": {},
     "output_type": "execute_result"
    }
   ],
   "source": [
    "uriage2['customer_age']"
   ]
  },
  {
   "cell_type": "code",
   "execution_count": 63,
   "metadata": {},
   "outputs": [],
   "source": [
    "# uriage.loc[flag & flag_null, 'item_price'] \n",
    "# column을 item_price 하나만 선택해서 스리즈 형태로 결과가 나옴\n",
    "\n",
    "uriage.loc[flag & flag_null, 'item_price'] = price_mean\n",
    "# 상품명이 상품A이고 item_price가 결측치인 데이터에 price_mean의 값을 대입"
   ]
  },
  {
   "cell_type": "code",
   "execution_count": 64,
   "metadata": {},
   "outputs": [
    {
     "data": {
      "text/plain": [
       "purchase_date    0\n",
       "item_name        0\n",
       "item_price       0\n",
       "customer_name    0\n",
       "dtype: int64"
      ]
     },
     "execution_count": 64,
     "metadata": {},
     "output_type": "execute_result"
    }
   ],
   "source": [
    "uriage.loc[flag].isna().sum()\n",
    "# 모든 데이터에 결측치가 없다는 것을 확인할 수 있다."
   ]
  },
  {
   "cell_type": "code",
   "execution_count": 68,
   "metadata": {},
   "outputs": [
    {
     "name": "stdout",
     "output_type": "stream",
     "text": [
      "False\n",
      "False\n",
      "False\n"
     ]
    }
   ],
   "source": [
    "# in 연산자\n",
    "# 자료형 데이터에 해당하는 값이 포함되어 있는지 비교\n",
    "# not in 연산자\n",
    "# 자료형 데이터에 해당하는 값이 포함되어 있지 않는 경우를 비교\n",
    "_list = ['a','b','c']\n",
    "\n",
    "print(not('a' in _list))\n",
    "print('a' not in _list)\n",
    "\n",
    "print('d' in _list)"
   ]
  },
  {
   "cell_type": "code",
   "execution_count": 69,
   "metadata": {},
   "outputs": [
    {
     "data": {
      "text/plain": [
       "['상품A',\n",
       " '상품S',\n",
       " '상품Z',\n",
       " '상품V',\n",
       " '상품O',\n",
       " '상품U',\n",
       " '상품L',\n",
       " '상품C',\n",
       " '상품I',\n",
       " '상품R',\n",
       " '상품X',\n",
       " '상품G',\n",
       " '상품P',\n",
       " '상품Q',\n",
       " '상품Y',\n",
       " '상품N',\n",
       " '상품W',\n",
       " '상품E',\n",
       " '상품K',\n",
       " '상품B',\n",
       " '상품F',\n",
       " '상품D',\n",
       " '상품M',\n",
       " '상품H',\n",
       " '상품T',\n",
       " '상품J']"
      ]
     },
     "execution_count": 69,
     "metadata": {},
     "output_type": "execute_result"
    }
   ],
   "source": [
    "# item_name의 데이터를 중복데이터가 없이 리스트형태로 출력\n",
    "\n",
    "# case1(중복된 데이터를 추가하지 않고 새로운 데이터만 배열에 추가)\n",
    "item_list = []\n",
    "\n",
    "for item in uriage['item_name']:\n",
    "    # print(item)\n",
    "    # item이 item_list에 포함되어 있다면 아무런 행동하지 않는다.\n",
    "    # 포함되어 있지 않다면 item_list에 item을 추가\n",
    "    if item not in item_list:\n",
    "        item_list.append(item)\n",
    "        \n",
    "item_list"
   ]
  },
  {
   "cell_type": "code",
   "execution_count": 71,
   "metadata": {},
   "outputs": [
    {
     "data": {
      "text/plain": [
       "['상품P',\n",
       " '상품D',\n",
       " '상품R',\n",
       " '상품T',\n",
       " '상품K',\n",
       " '상품S',\n",
       " '상품Z',\n",
       " '상품Q',\n",
       " '상품I',\n",
       " '상품X',\n",
       " '상품H',\n",
       " '상품B',\n",
       " '상품V',\n",
       " '상품A',\n",
       " '상품L',\n",
       " '상품W',\n",
       " '상품Y',\n",
       " '상품J',\n",
       " '상품F',\n",
       " '상품N',\n",
       " '상품U',\n",
       " '상품E',\n",
       " '상품O',\n",
       " '상품G',\n",
       " '상품M',\n",
       " '상품C']"
      ]
     },
     "execution_count": 71,
     "metadata": {},
     "output_type": "execute_result"
    }
   ],
   "source": [
    "# 집합형 데이터로 변환 -> list 형태로 변환\n",
    "list(set(uriage['item_name']))"
   ]
  },
  {
   "cell_type": "code",
   "execution_count": 75,
   "metadata": {},
   "outputs": [
    {
     "data": {
      "text/plain": [
       "item_name\n",
       "상품S    140\n",
       "상품A    139\n",
       "상품R    136\n",
       "상품P    135\n",
       "상품V    134\n",
       "상품C    133\n",
       "상품F    126\n",
       "상품D    125\n",
       "상품Q    125\n",
       "상품O    124\n",
       "상품W    121\n",
       "상품N    119\n",
       "상품T    117\n",
       "상품J    116\n",
       "상품X    116\n",
       "상품I    114\n",
       "상품B    113\n",
       "상품M    113\n",
       "상품L    110\n",
       "상품G    110\n",
       "상품K    109\n",
       "상품H    109\n",
       "상품U    107\n",
       "상품E    105\n",
       "상품Y    102\n",
       "상품Z      1\n",
       "Name: count, dtype: int64"
      ]
     },
     "execution_count": 75,
     "metadata": {},
     "output_type": "execute_result"
    }
   ],
   "source": [
    "# value_counts()를 이용하여 고유한 값을 출력\n",
    "uriage['item_name'].value_counts() #에서 index값만 보겠다."
   ]
  },
  {
   "cell_type": "code",
   "execution_count": 76,
   "metadata": {},
   "outputs": [
    {
     "data": {
      "text/plain": [
       "Index(['상품S', '상품A', '상품R', '상품P', '상품V', '상품C', '상품F', '상품D', '상품Q', '상품O',\n",
       "       '상품W', '상품N', '상품T', '상품J', '상품X', '상품I', '상품B', '상품M', '상품L', '상품G',\n",
       "       '상품K', '상품H', '상품U', '상품E', '상품Y', '상품Z'],\n",
       "      dtype='object', name='item_name')"
      ]
     },
     "execution_count": 76,
     "metadata": {},
     "output_type": "execute_result"
    }
   ],
   "source": [
    "# value_counts()를 이용하여 고유한 값을 출력\n",
    "uriage['item_name'].value_counts().index"
   ]
  },
  {
   "cell_type": "code",
   "execution_count": 77,
   "metadata": {},
   "outputs": [
    {
     "data": {
      "text/plain": [
       "array(['상품A', '상품S', '상품Z', '상품V', '상품O', '상품U', '상품L', '상품C', '상품I',\n",
       "       '상품R', '상품X', '상품G', '상품P', '상품Q', '상품Y', '상품N', '상품W', '상품E',\n",
       "       '상품K', '상품B', '상품F', '상품D', '상품M', '상품H', '상품T', '상품J'],\n",
       "      dtype=object)"
      ]
     },
     "execution_count": 77,
     "metadata": {},
     "output_type": "execute_result"
    }
   ],
   "source": [
    "uriage['item_name'].unique()"
   ]
  },
  {
   "cell_type": "code",
   "execution_count": 78,
   "metadata": {},
   "outputs": [],
   "source": [
    "uriage3=uriage.copy()"
   ]
  },
  {
   "cell_type": "code",
   "execution_count": 97,
   "metadata": {},
   "outputs": [
    {
     "data": {
      "text/plain": [
       "['상품A',\n",
       " '상품S',\n",
       " '상품Z',\n",
       " '상품V',\n",
       " '상품O',\n",
       " '상품U',\n",
       " '상품L',\n",
       " '상품C',\n",
       " '상품I',\n",
       " '상품R',\n",
       " '상품X',\n",
       " '상품G',\n",
       " '상품P',\n",
       " '상품Q',\n",
       " '상품Y',\n",
       " '상품N',\n",
       " '상품W',\n",
       " '상품E',\n",
       " '상품K',\n",
       " '상품B',\n",
       " '상품F',\n",
       " '상품D',\n",
       " '상품M',\n",
       " '상품H',\n",
       " '상품T',\n",
       " '상품J']"
      ]
     },
     "execution_count": 97,
     "metadata": {},
     "output_type": "execute_result"
    }
   ],
   "source": [
    "item_list"
   ]
  },
  {
   "cell_type": "code",
   "execution_count": 98,
   "metadata": {},
   "outputs": [],
   "source": [
    "# item_list 자료형 데이터를 이용하여 반복문 작성\n",
    "for item in item_list:\n",
    "    # item 변수에는 item_list의 원소들이 하나씩 대입하여 반복\n",
    "    # print(item)\n",
    "    \n",
    "    flag = uriage['item_name'] == item\n",
    "    # 'item_name'이 상품 이름일 때,\n",
    "    flag_null = uriage['item_price'].isna()\n",
    "    # item_price가 결측치인 것들\n",
    "\n",
    "    # 조건식을 이용하여 item_name이 상품A이고 item_price가 결측치 아닌 데이터의 평균\n",
    "    # flag & ~flag_null까지는 index의 조건, 'item_price'는 컬럼 / 그것들의 평균값을 보겠다.\n",
    "    price_mean = uriage.loc[ flag & ~flag_null , 'item_price'].mean()\n",
    "    # 상품명의 조건과 item_price가 결측치인 데이터에 item_price컬러 데이터에 price_mean을 대임\n",
    "    # 결측치를 다 찾아서, price_mean으로 싹 다 바꿔줌.\n",
    "    uriage.loc[flag & flag_null, 'item_price'] = price_mean"
   ]
  },
  {
   "cell_type": "code",
   "execution_count": 80,
   "metadata": {},
   "outputs": [
    {
     "name": "stdout",
     "output_type": "stream",
     "text": [
      "<class 'pandas.core.frame.DataFrame'>\n",
      "RangeIndex: 2999 entries, 0 to 2998\n",
      "Data columns (total 4 columns):\n",
      " #   Column         Non-Null Count  Dtype  \n",
      "---  ------         --------------  -----  \n",
      " 0   purchase_date  2999 non-null   object \n",
      " 1   item_name      2999 non-null   object \n",
      " 2   item_price     2999 non-null   float64\n",
      " 3   customer_name  2999 non-null   object \n",
      "dtypes: float64(1), object(3)\n",
      "memory usage: 93.8+ KB\n"
     ]
    }
   ],
   "source": [
    "uriage.info()"
   ]
  },
  {
   "cell_type": "code",
   "execution_count": 84,
   "metadata": {},
   "outputs": [
    {
     "data": {
      "text/plain": [
       "item_price\n",
       "300.0    133\n",
       "Name: count, dtype: int64"
      ]
     },
     "execution_count": 84,
     "metadata": {},
     "output_type": "execute_result"
    }
   ],
   "source": [
    "# '상품C'의 데이터 확인. 300.0이라는 데이터밖에 없다. 결측치 잘 채워졌음.\n",
    "uriage.loc[uriage['item_name'] == '상품C', 'item_price'].value_counts()\n",
    "\n",
    "# uriage.loc[uriage['item_name'] == '상품D', 'item_price'].value_counts()"
   ]
  },
  {
   "cell_type": "code",
   "execution_count": 92,
   "metadata": {},
   "outputs": [],
   "source": [
    "# 또 다른 방법으로도 해봅시다.\n",
    "# map 함수를 이용하여 결측치 데이터에 대입해보자.\n",
    "def na_fill(item) :\n",
    "    flag = uriage3['item_name'] == item\n",
    "    flag_null = uriage3['item_price'].isna()\n",
    "\n",
    "    # 조건식을 이용하여 item_name이 상품A이고 item_price가 결측치 아닌 데이터의 평균\n",
    "    price_mean = uriage3.loc[ flag & ~flag_null , 'item_price'].mean()\n",
    "    # 상품명의 조건과 item_price가 결측치인 데이터에 item_price컬러 데이터에 price_mean을 대임\n",
    "    uriage3.loc[flag & flag_null, 'item_price'] = price_mean\n",
    "    result = f'{item}컬럼 결측치 작업 완료'\n",
    "    return result"
   ]
  },
  {
   "cell_type": "code",
   "execution_count": 93,
   "metadata": {},
   "outputs": [
    {
     "data": {
      "text/plain": [
       "['상품A',\n",
       " '상품S',\n",
       " '상품Z',\n",
       " '상품V',\n",
       " '상품O',\n",
       " '상품U',\n",
       " '상품L',\n",
       " '상품C',\n",
       " '상품I',\n",
       " '상품R',\n",
       " '상품X',\n",
       " '상품G',\n",
       " '상품P',\n",
       " '상품Q',\n",
       " '상품Y',\n",
       " '상품N',\n",
       " '상품W',\n",
       " '상품E',\n",
       " '상품K',\n",
       " '상품B',\n",
       " '상품F',\n",
       " '상품D',\n",
       " '상품M',\n",
       " '상품H',\n",
       " '상품T',\n",
       " '상품J']"
      ]
     },
     "execution_count": 93,
     "metadata": {},
     "output_type": "execute_result"
    }
   ],
   "source": [
    "item_list"
   ]
  },
  {
   "cell_type": "code",
   "execution_count": 94,
   "metadata": {},
   "outputs": [
    {
     "data": {
      "text/plain": [
       "['상품A컬럼 결측치 작업 완료',\n",
       " '상품S컬럼 결측치 작업 완료',\n",
       " '상품Z컬럼 결측치 작업 완료',\n",
       " '상품V컬럼 결측치 작업 완료',\n",
       " '상품O컬럼 결측치 작업 완료',\n",
       " '상품U컬럼 결측치 작업 완료',\n",
       " '상품L컬럼 결측치 작업 완료',\n",
       " '상품C컬럼 결측치 작업 완료',\n",
       " '상품I컬럼 결측치 작업 완료',\n",
       " '상품R컬럼 결측치 작업 완료',\n",
       " '상품X컬럼 결측치 작업 완료',\n",
       " '상품G컬럼 결측치 작업 완료',\n",
       " '상품P컬럼 결측치 작업 완료',\n",
       " '상품Q컬럼 결측치 작업 완료',\n",
       " '상품Y컬럼 결측치 작업 완료',\n",
       " '상품N컬럼 결측치 작업 완료',\n",
       " '상품W컬럼 결측치 작업 완료',\n",
       " '상품E컬럼 결측치 작업 완료',\n",
       " '상품K컬럼 결측치 작업 완료',\n",
       " '상품B컬럼 결측치 작업 완료',\n",
       " '상품F컬럼 결측치 작업 완료',\n",
       " '상품D컬럼 결측치 작업 완료',\n",
       " '상품M컬럼 결측치 작업 완료',\n",
       " '상품H컬럼 결측치 작업 완료',\n",
       " '상품T컬럼 결측치 작업 완료',\n",
       " '상품J컬럼 결측치 작업 완료']"
      ]
     },
     "execution_count": 94,
     "metadata": {},
     "output_type": "execute_result"
    }
   ],
   "source": [
    "list(map(na_fill, item_list))"
   ]
  },
  {
   "cell_type": "code",
   "execution_count": 99,
   "metadata": {},
   "outputs": [
    {
     "data": {
      "text/plain": [
       "purchase_date    0\n",
       "item_name        0\n",
       "item_price       0\n",
       "customer_name    0\n",
       "dtype: int64"
      ]
     },
     "execution_count": 99,
     "metadata": {},
     "output_type": "execute_result"
    }
   ],
   "source": [
    "uriage3.isna().sum()\n",
    "# 결측치가 모두 사라졌다."
   ]
  },
  {
   "cell_type": "code",
   "execution_count": null,
   "metadata": {},
   "outputs": [],
   "source": []
  }
 ],
 "metadata": {
  "kernelspec": {
   "display_name": "Python 3",
   "language": "python",
   "name": "python3"
  },
  "language_info": {
   "codemirror_mode": {
    "name": "ipython",
    "version": 3
   },
   "file_extension": ".py",
   "mimetype": "text/x-python",
   "name": "python",
   "nbconvert_exporter": "python",
   "pygments_lexer": "ipython3",
   "version": "3.11.5"
  },
  "orig_nbformat": 4
 },
 "nbformat": 4,
 "nbformat_minor": 2
}
