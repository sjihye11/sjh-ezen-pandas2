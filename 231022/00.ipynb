{
 "cells": [
  {
   "cell_type": "code",
   "execution_count": null,
   "metadata": {},
   "outputs": [],
   "source": [
    "# Bootstrap 웹 디자인 코드를 긁어서 쓰면 웹 디자인에 유용함\n",
    "# css 링크를 끌어다 쓰면 됨. "
   ]
  }
 ],
 "metadata": {
  "language_info": {
   "name": "python"
  }
 },
 "nbformat": 4,
 "nbformat_minor": 2
}
