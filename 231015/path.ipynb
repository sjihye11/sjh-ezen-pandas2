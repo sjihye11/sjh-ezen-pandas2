{
 "cells": [
  {
   "cell_type": "code",
   "execution_count": 1,
   "metadata": {},
   "outputs": [],
   "source": [
    "# 세번째 파일입니다."
   ]
  },
  {
   "cell_type": "code",
   "execution_count": 2,
   "metadata": {},
   "outputs": [],
   "source": [
    "import sys"
   ]
  },
  {
   "cell_type": "code",
   "execution_count": 3,
   "metadata": {},
   "outputs": [
    {
     "data": {
      "text/plain": [
       "['d:\\\\sjh\\\\sjh-ezen-pandas2\\\\231015',\n",
       " 'c:\\\\Users\\\\EZEN\\\\AppData\\\\Local\\\\Programs\\\\Python\\\\Python311\\\\python311.zip',\n",
       " 'c:\\\\Users\\\\EZEN\\\\AppData\\\\Local\\\\Programs\\\\Python\\\\Python311\\\\DLLs',\n",
       " 'c:\\\\Users\\\\EZEN\\\\AppData\\\\Local\\\\Programs\\\\Python\\\\Python311\\\\Lib',\n",
       " 'c:\\\\Users\\\\EZEN\\\\AppData\\\\Local\\\\Programs\\\\Python\\\\Python311',\n",
       " '',\n",
       " 'C:\\\\Users\\\\EZEN\\\\AppData\\\\Roaming\\\\Python\\\\Python311\\\\site-packages',\n",
       " 'C:\\\\Users\\\\EZEN\\\\AppData\\\\Roaming\\\\Python\\\\Python311\\\\site-packages\\\\win32',\n",
       " 'C:\\\\Users\\\\EZEN\\\\AppData\\\\Roaming\\\\Python\\\\Python311\\\\site-packages\\\\win32\\\\lib',\n",
       " 'C:\\\\Users\\\\EZEN\\\\AppData\\\\Roaming\\\\Python\\\\Python311\\\\site-packages\\\\Pythonwin',\n",
       " 'c:\\\\Users\\\\EZEN\\\\AppData\\\\Local\\\\Programs\\\\Python\\\\Python311\\\\Lib\\\\site-packages']"
      ]
     },
     "execution_count": 3,
     "metadata": {},
     "output_type": "execute_result"
    }
   ],
   "source": [
    "# 환경변수 출력\n",
    "sys.path\n",
    "# 출력돼서 나온 것 봐봐. 리스트지? 그러면 append를 쓰면 경로를 하나 더 추가할 수 있겠지."
   ]
  },
  {
   "cell_type": "code",
   "execution_count": 7,
   "metadata": {},
   "outputs": [],
   "source": [
    "# 환경 변수 추가\n",
    "sys.path.append('D:\\\\sjh\\\\sjh-ezen-pandas2\\\\reference')\n",
    "# 역슬래시는 두 개가 짝꿍임. 한 개만 되어 있으면 한 개를 꼭 더 추가해주기."
   ]
  },
  {
   "cell_type": "code",
   "execution_count": 9,
   "metadata": {},
   "outputs": [
    {
     "data": {
      "text/plain": [
       "['d:\\\\sjh\\\\sjh-ezen-pandas2\\\\231015',\n",
       " 'c:\\\\Users\\\\EZEN\\\\AppData\\\\Local\\\\Programs\\\\Python\\\\Python311\\\\python311.zip',\n",
       " 'c:\\\\Users\\\\EZEN\\\\AppData\\\\Local\\\\Programs\\\\Python\\\\Python311\\\\DLLs',\n",
       " 'c:\\\\Users\\\\EZEN\\\\AppData\\\\Local\\\\Programs\\\\Python\\\\Python311\\\\Lib',\n",
       " 'c:\\\\Users\\\\EZEN\\\\AppData\\\\Local\\\\Programs\\\\Python\\\\Python311',\n",
       " '',\n",
       " 'C:\\\\Users\\\\EZEN\\\\AppData\\\\Roaming\\\\Python\\\\Python311\\\\site-packages',\n",
       " 'C:\\\\Users\\\\EZEN\\\\AppData\\\\Roaming\\\\Python\\\\Python311\\\\site-packages\\\\win32',\n",
       " 'C:\\\\Users\\\\EZEN\\\\AppData\\\\Roaming\\\\Python\\\\Python311\\\\site-packages\\\\win32\\\\lib',\n",
       " 'C:\\\\Users\\\\EZEN\\\\AppData\\\\Roaming\\\\Python\\\\Python311\\\\site-packages\\\\Pythonwin',\n",
       " 'c:\\\\Users\\\\EZEN\\\\AppData\\\\Local\\\\Programs\\\\Python\\\\Python311\\\\Lib\\\\site-packages',\n",
       " 'D:\\\\sjh\\\\sjh-ezen-pandas2\\\\reference']"
      ]
     },
     "execution_count": 9,
     "metadata": {},
     "output_type": "execute_result"
    }
   ],
   "source": [
    "sys.path\n",
    "# 맨 밑에 추가된 거 보임."
   ]
  },
  {
   "cell_type": "code",
   "execution_count": 11,
   "metadata": {},
   "outputs": [],
   "source": [
    "import list_load as ll"
   ]
  },
  {
   "cell_type": "code",
   "execution_count": null,
   "metadata": {},
   "outputs": [],
   "source": [
    "ll.list_load(\"../csv/2021\", 'csv')"
   ]
  },
  {
   "cell_type": "code",
   "execution_count": 13,
   "metadata": {},
   "outputs": [
    {
     "data": {
      "text/plain": [
       "'c:\\\\Users\\\\EZEN\\\\AppData\\\\Local\\\\Programs\\\\Python\\\\Python311\\\\python.exe'"
      ]
     },
     "execution_count": 13,
     "metadata": {},
     "output_type": "execute_result"
    }
   ],
   "source": [
    "sys.executable"
   ]
  },
  {
   "cell_type": "code",
   "execution_count": null,
   "metadata": {},
   "outputs": [],
   "source": [
    "# 리스트에 추가한 경로를 복사해서\n",
    "# txt파일에 붙여넣고 python 있는 폴더 찾아서 거기에 my_path.txt로 저장한다음에\n",
    "# .txt를 .pth로 확장자명 변경\n",
    "# 그러면 끝남."
   ]
  }
 ],
 "metadata": {
  "kernelspec": {
   "display_name": "Python 3",
   "language": "python",
   "name": "python3"
  },
  "language_info": {
   "codemirror_mode": {
    "name": "ipython",
    "version": 3
   },
   "file_extension": ".py",
   "mimetype": "text/x-python",
   "name": "python",
   "nbconvert_exporter": "python",
   "pygments_lexer": "ipython3",
   "version": "3.11.5"
  }
 },
 "nbformat": 4,
 "nbformat_minor": 2
}
