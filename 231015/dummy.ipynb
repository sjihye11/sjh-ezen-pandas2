{
 "cells": [
  {
   "cell_type": "code",
   "execution_count": 146,
   "metadata": {},
   "outputs": [],
   "source": [
    "# 4번째 파일입니다. 실무 중심"
   ]
  },
  {
   "cell_type": "code",
   "execution_count": 147,
   "metadata": {},
   "outputs": [],
   "source": [
    "import random\n",
    "import string #사람 이름 만들려고"
   ]
  },
  {
   "cell_type": "code",
   "execution_count": 148,
   "metadata": {},
   "outputs": [
    {
     "data": {
      "text/plain": [
       "'abcdefghijklmnopqrstuvwxyz'"
      ]
     },
     "execution_count": 148,
     "metadata": {},
     "output_type": "execute_result"
    }
   ],
   "source": [
    "# 문자열 랜덤 값을 생성\n",
    "letter_set = string.ascii_lowercase\n",
    "letter_set\n",
    "# 소문자들의 데이터들을 하나 만들어주겠다. 귀찮아서 letter_set으로 걍 만들어봤어요."
   ]
  },
  {
   "cell_type": "code",
   "execution_count": 149,
   "metadata": {},
   "outputs": [
    {
     "data": {
      "text/plain": [
       "'mojdx'"
      ]
     },
     "execution_count": 149,
     "metadata": {},
     "output_type": "execute_result"
    }
   ],
   "source": [
    "random_data = random.sample(letter_set, 5)\n",
    "# list를 문자열로 변경\n",
    "data = \"\".join(random_data) #비어있는 문자열에 random_data에 있는 내용을 추가해주겠다.\n",
    "data"
   ]
  },
  {
   "cell_type": "code",
   "execution_count": 150,
   "metadata": {},
   "outputs": [],
   "source": [
    "text_length = range(4,10)\n",
    "email = ['@naver.com', '@gmail.com', '@hanmail.net', '@yahoo.com']\n",
    "\n",
    "email_list = []\n",
    "for i in range(1000000): #중복 안 되게 하려고 좀 많이 했음.\n",
    "    # email_list의 길이가 100일 때 반복문을 종료(break)\n",
    "    if (len(email_list) == 100):\n",
    "        break\n",
    "    random_data = random.sample(letter_set, random.choice(text_length))  #랜덤하게 하나만 선택하겠다.\n",
    "    \n",
    "    data = \"\".join(random_data) + random.choice(email)\n",
    "    \n",
    "    # data를 email_list에 대입 -> 해당하는 이메일이 존재하지 않는 경우에만\n",
    "    if (data not in email_list):\n",
    "        email_list.append(data)\n"
   ]
  },
  {
   "cell_type": "code",
   "execution_count": 151,
   "metadata": {},
   "outputs": [
    {
     "data": {
      "text/plain": [
       "['tfdcxgwy@hanmail.net',\n",
       " 'izyhakf@hanmail.net',\n",
       " 'camx@hanmail.net',\n",
       " 'uyema@gmail.com',\n",
       " 'vixlcd@yahoo.com',\n",
       " 'vznwdycsf@hanmail.net',\n",
       " 'fqgmjbhu@gmail.com',\n",
       " 'umnj@yahoo.com',\n",
       " 'cspgdhv@hanmail.net',\n",
       " 'pilfj@hanmail.net',\n",
       " 'xgvdiewry@hanmail.net',\n",
       " 'xjqlegt@hanmail.net',\n",
       " 'tixj@yahoo.com',\n",
       " 'jlrdifg@gmail.com',\n",
       " 'atlyqiosc@gmail.com',\n",
       " 'askrmpo@gmail.com',\n",
       " 'dzug@yahoo.com',\n",
       " 'zklfnptx@yahoo.com',\n",
       " 'qehilc@gmail.com',\n",
       " 'ojrewi@gmail.com',\n",
       " 'muwsj@yahoo.com',\n",
       " 'lpko@naver.com',\n",
       " 'hcjvxmuz@gmail.com',\n",
       " 'bprhg@yahoo.com',\n",
       " 'mqornsli@naver.com',\n",
       " 'smfqa@hanmail.net',\n",
       " 'aplsz@naver.com',\n",
       " 'rqvz@yahoo.com',\n",
       " 'sgkcy@naver.com',\n",
       " 'ltdexkoqj@gmail.com',\n",
       " 'mvcnlqkf@hanmail.net',\n",
       " 'nizgxrjeb@hanmail.net',\n",
       " 'vrzedwiy@hanmail.net',\n",
       " 'zulnks@yahoo.com',\n",
       " 'ujtlo@gmail.com',\n",
       " 'dkeql@hanmail.net',\n",
       " 'xkhedzqt@gmail.com',\n",
       " 'ubgip@yahoo.com',\n",
       " 'lsbvd@naver.com',\n",
       " 'pxaonq@yahoo.com',\n",
       " 'syfi@hanmail.net',\n",
       " 'bygnarmdq@yahoo.com',\n",
       " 'fsbyipmhv@naver.com',\n",
       " 'xyvzkdgs@gmail.com',\n",
       " 'aetcd@gmail.com',\n",
       " 'xsbahuckv@gmail.com',\n",
       " 'fglejruoa@gmail.com',\n",
       " 'pcmfkt@yahoo.com',\n",
       " 'ciewkzm@hanmail.net',\n",
       " 'ojasbmu@naver.com',\n",
       " 'vwpchxem@naver.com',\n",
       " 'diwbjran@naver.com',\n",
       " 'yakp@yahoo.com',\n",
       " 'xvsz@gmail.com',\n",
       " 'gvbh@hanmail.net',\n",
       " 'byusmv@naver.com',\n",
       " 'euyhlkcvd@hanmail.net',\n",
       " 'wxryjk@gmail.com',\n",
       " 'hvwukocm@gmail.com',\n",
       " 'vzpja@hanmail.net',\n",
       " 'vgiub@naver.com',\n",
       " 'nmtq@yahoo.com',\n",
       " 'ikgvepxdu@hanmail.net',\n",
       " 'hrqbzwut@yahoo.com',\n",
       " 'oaip@gmail.com',\n",
       " 'kovwplbjg@gmail.com',\n",
       " 'oqsiaprxu@naver.com',\n",
       " 'fwyov@yahoo.com',\n",
       " 'svjektdou@naver.com',\n",
       " 'prsj@hanmail.net',\n",
       " 'yxfa@naver.com',\n",
       " 'twyoe@hanmail.net',\n",
       " 'tfcjpzyi@gmail.com',\n",
       " 'jdlexahso@hanmail.net',\n",
       " 'netao@gmail.com',\n",
       " 'olmgy@naver.com',\n",
       " 'oejuhfzik@gmail.com',\n",
       " 'vdecbja@gmail.com',\n",
       " 'qdvri@naver.com',\n",
       " 'fvbluoqm@gmail.com',\n",
       " 'zjlytders@gmail.com',\n",
       " 'kcwnobqxp@yahoo.com',\n",
       " 'qymgba@gmail.com',\n",
       " 'pdtn@gmail.com',\n",
       " 'jsfmixtn@yahoo.com',\n",
       " 'hvqbpd@hanmail.net',\n",
       " 'fiknxwuds@yahoo.com',\n",
       " 'dtlwgy@gmail.com',\n",
       " 'kzbwr@gmail.com',\n",
       " 'hdklrjib@naver.com',\n",
       " 'uzhwjlbfp@hanmail.net',\n",
       " 'fygtmcobl@hanmail.net',\n",
       " 'sqyxhig@gmail.com',\n",
       " 'wahesl@hanmail.net',\n",
       " 'fmjotp@gmail.com',\n",
       " 'mqdpcgs@hanmail.net',\n",
       " 'ocbhairw@hanmail.net',\n",
       " 'awsvqdkzp@naver.com',\n",
       " 'caqzd@gmail.com',\n",
       " 'lcdmkoft@gmail.com']"
      ]
     },
     "execution_count": 151,
     "metadata": {},
     "output_type": "execute_result"
    }
   ],
   "source": [
    "email_list"
   ]
  },
  {
   "cell_type": "code",
   "execution_count": 152,
   "metadata": {},
   "outputs": [],
   "source": [
    "# 입사일 만들기\n",
    "from datetime import datetime\n",
    "# datetime 라이브러리 안에 있는 datetime 기능을 가져오겠다."
   ]
  },
  {
   "cell_type": "code",
   "execution_count": 153,
   "metadata": {},
   "outputs": [
    {
     "name": "stdout",
     "output_type": "stream",
     "text": [
      "2022931\n",
      "2022230\n",
      "2018230\n"
     ]
    }
   ],
   "source": [
    "year = list(range(2017, 2024)) #2017~2023의 자료형 데이터가 만들어질 것임.\n",
    "month = list(range(1, 13))\n",
    "day = list(range(1,32))\n",
    "\n",
    "time1 = []\n",
    "for i in range(100000):\n",
    "    y = str(random.choice(year))\n",
    "    m = str(random.choice(month))\n",
    "    d = str(random.choice(day))\n",
    "    #문자열로 일부러 바꿔놓음. 숫자로 걍 놔두면 진짜 숫자끼리 더해짐.\n",
    "    \n",
    "    date = y + m + d\n",
    "    \n",
    "    try:\n",
    "        time1.append(datetime.strptime(date, '%Y%m%d')) #strptime은 문자열 타입을 시계열 타입으로 바꾸는거\n",
    "    except:\n",
    "        print(date)\n",
    "        \n",
    "    if (len(time1) == 100):\n",
    "        break"
   ]
  },
  {
   "cell_type": "code",
   "execution_count": 154,
   "metadata": {},
   "outputs": [
    {
     "data": {
      "text/plain": [
       "[datetime.datetime(2020, 6, 22, 0, 0),\n",
       " datetime.datetime(2021, 2, 21, 0, 0),\n",
       " datetime.datetime(2020, 8, 10, 0, 0),\n",
       " datetime.datetime(2018, 6, 7, 0, 0),\n",
       " datetime.datetime(2022, 6, 11, 0, 0),\n",
       " datetime.datetime(2017, 3, 9, 0, 0),\n",
       " datetime.datetime(2018, 4, 7, 0, 0),\n",
       " datetime.datetime(2022, 6, 29, 0, 0),\n",
       " datetime.datetime(2020, 4, 26, 0, 0),\n",
       " datetime.datetime(2022, 2, 6, 0, 0),\n",
       " datetime.datetime(2022, 12, 27, 0, 0),\n",
       " datetime.datetime(2023, 2, 14, 0, 0),\n",
       " datetime.datetime(2019, 2, 2, 0, 0),\n",
       " datetime.datetime(2022, 6, 11, 0, 0),\n",
       " datetime.datetime(2022, 6, 13, 0, 0),\n",
       " datetime.datetime(2023, 10, 8, 0, 0),\n",
       " datetime.datetime(2021, 4, 2, 0, 0),\n",
       " datetime.datetime(2019, 5, 5, 0, 0),\n",
       " datetime.datetime(2019, 7, 10, 0, 0),\n",
       " datetime.datetime(2019, 12, 25, 0, 0),\n",
       " datetime.datetime(2022, 12, 3, 0, 0),\n",
       " datetime.datetime(2021, 11, 7, 0, 0),\n",
       " datetime.datetime(2018, 10, 6, 0, 0),\n",
       " datetime.datetime(2017, 5, 31, 0, 0),\n",
       " datetime.datetime(2019, 10, 12, 0, 0),\n",
       " datetime.datetime(2018, 7, 11, 0, 0),\n",
       " datetime.datetime(2018, 7, 19, 0, 0),\n",
       " datetime.datetime(2019, 11, 5, 0, 0),\n",
       " datetime.datetime(2019, 9, 25, 0, 0),\n",
       " datetime.datetime(2018, 10, 25, 0, 0),\n",
       " datetime.datetime(2023, 8, 3, 0, 0),\n",
       " datetime.datetime(2017, 8, 11, 0, 0),\n",
       " datetime.datetime(2017, 2, 11, 0, 0),\n",
       " datetime.datetime(2022, 4, 10, 0, 0),\n",
       " datetime.datetime(2021, 12, 4, 0, 0),\n",
       " datetime.datetime(2018, 5, 30, 0, 0),\n",
       " datetime.datetime(2023, 5, 12, 0, 0),\n",
       " datetime.datetime(2022, 2, 12, 0, 0),\n",
       " datetime.datetime(2020, 10, 19, 0, 0),\n",
       " datetime.datetime(2023, 5, 2, 0, 0),\n",
       " datetime.datetime(2022, 8, 14, 0, 0),\n",
       " datetime.datetime(2021, 10, 16, 0, 0),\n",
       " datetime.datetime(2023, 12, 25, 0, 0),\n",
       " datetime.datetime(2019, 4, 4, 0, 0),\n",
       " datetime.datetime(2018, 12, 20, 0, 0),\n",
       " datetime.datetime(2018, 3, 16, 0, 0),\n",
       " datetime.datetime(2022, 10, 26, 0, 0),\n",
       " datetime.datetime(2023, 1, 7, 0, 0),\n",
       " datetime.datetime(2019, 12, 26, 0, 0),\n",
       " datetime.datetime(2022, 2, 12, 0, 0),\n",
       " datetime.datetime(2019, 12, 17, 0, 0),\n",
       " datetime.datetime(2019, 2, 27, 0, 0),\n",
       " datetime.datetime(2019, 8, 5, 0, 0),\n",
       " datetime.datetime(2018, 11, 30, 0, 0),\n",
       " datetime.datetime(2017, 2, 26, 0, 0),\n",
       " datetime.datetime(2023, 2, 22, 0, 0),\n",
       " datetime.datetime(2017, 1, 9, 0, 0),\n",
       " datetime.datetime(2017, 7, 26, 0, 0),\n",
       " datetime.datetime(2018, 6, 9, 0, 0),\n",
       " datetime.datetime(2022, 8, 19, 0, 0),\n",
       " datetime.datetime(2022, 11, 4, 0, 0),\n",
       " datetime.datetime(2022, 3, 22, 0, 0),\n",
       " datetime.datetime(2021, 6, 25, 0, 0),\n",
       " datetime.datetime(2019, 3, 31, 0, 0),\n",
       " datetime.datetime(2022, 7, 16, 0, 0),\n",
       " datetime.datetime(2023, 6, 30, 0, 0),\n",
       " datetime.datetime(2021, 10, 1, 0, 0),\n",
       " datetime.datetime(2019, 3, 28, 0, 0),\n",
       " datetime.datetime(2020, 7, 7, 0, 0),\n",
       " datetime.datetime(2022, 11, 6, 0, 0),\n",
       " datetime.datetime(2017, 7, 10, 0, 0),\n",
       " datetime.datetime(2021, 7, 25, 0, 0),\n",
       " datetime.datetime(2020, 2, 4, 0, 0),\n",
       " datetime.datetime(2022, 1, 10, 0, 0),\n",
       " datetime.datetime(2019, 3, 28, 0, 0),\n",
       " datetime.datetime(2022, 11, 20, 0, 0),\n",
       " datetime.datetime(2021, 11, 27, 0, 0),\n",
       " datetime.datetime(2022, 6, 30, 0, 0),\n",
       " datetime.datetime(2019, 4, 21, 0, 0),\n",
       " datetime.datetime(2020, 11, 13, 0, 0),\n",
       " datetime.datetime(2018, 7, 11, 0, 0),\n",
       " datetime.datetime(2022, 2, 2, 0, 0),\n",
       " datetime.datetime(2018, 11, 16, 0, 0),\n",
       " datetime.datetime(2021, 9, 22, 0, 0),\n",
       " datetime.datetime(2022, 6, 24, 0, 0),\n",
       " datetime.datetime(2017, 5, 27, 0, 0),\n",
       " datetime.datetime(2018, 1, 10, 0, 0),\n",
       " datetime.datetime(2019, 7, 23, 0, 0),\n",
       " datetime.datetime(2021, 3, 30, 0, 0),\n",
       " datetime.datetime(2018, 4, 2, 0, 0),\n",
       " datetime.datetime(2021, 4, 12, 0, 0),\n",
       " datetime.datetime(2022, 12, 8, 0, 0),\n",
       " datetime.datetime(2017, 8, 14, 0, 0),\n",
       " datetime.datetime(2019, 9, 29, 0, 0),\n",
       " datetime.datetime(2022, 8, 13, 0, 0),\n",
       " datetime.datetime(2019, 5, 5, 0, 0),\n",
       " datetime.datetime(2017, 11, 6, 0, 0),\n",
       " datetime.datetime(2021, 1, 7, 0, 0),\n",
       " datetime.datetime(2022, 6, 23, 0, 0),\n",
       " datetime.datetime(2019, 11, 19, 0, 0)]"
      ]
     },
     "execution_count": 154,
     "metadata": {},
     "output_type": "execute_result"
    }
   ],
   "source": [
    "time1"
   ]
  },
  {
   "cell_type": "code",
   "execution_count": 155,
   "metadata": {},
   "outputs": [
    {
     "name": "stdout",
     "output_type": "stream",
     "text": [
      "2018231\n",
      "20171131\n",
      "2023931\n",
      "2018431\n",
      "2017631\n",
      "2018229\n",
      "2019631\n"
     ]
    }
   ],
   "source": [
    "# 퇴사일 만들겠습니다.(입사일 이후의 날짜가 되어야 합니다.)\n",
    "year = list(range(2017, 2024))\n",
    "month = list(range(1, 13))\n",
    "day = list(range(1,32))\n",
    "\n",
    "time2 = []\n",
    "\n",
    "# time1의 인덱스 값 설정\n",
    "time1_index = 0\n",
    "\n",
    "for i in range(100000):\n",
    "    y = str(random.choice(year))\n",
    "    m = str(random.choice(month))\n",
    "    d = str(random.choice(day))\n",
    "    #문자열로 일부러 바꿔놓음. 숫자로 걍 놔두면 진짜 숫자끼리 더해짐.\n",
    "    \n",
    "    date = y + m + d\n",
    "    \n",
    "    try:\n",
    "        if (time1[time1_index] < datetime.strptime(date, '%Y%m%d')):\n",
    "            time2.append(datetime.strptime(date, '%Y%m%d')) #strptime은 문자열 타입을 시계열 타입으로 바꾸는거\n",
    "            time1_index += 1\n",
    "    except:\n",
    "        print(date)\n",
    "        \n",
    "    if (len(time2) == 100):\n",
    "        break"
   ]
  },
  {
   "cell_type": "code",
   "execution_count": 156,
   "metadata": {},
   "outputs": [],
   "source": [
    "import pandas as pd"
   ]
  },
  {
   "cell_type": "code",
   "execution_count": 157,
   "metadata": {},
   "outputs": [],
   "source": [
    "df = pd.DataFrame({\n",
    "    'email' : email_list,\n",
    "    '입사일' : time1,\n",
    "    '퇴사일' : time2\n",
    "})\n",
    "# 딕셔너리 형태로 집어넣으면, 키값이 컬럼이 됨."
   ]
  },
  {
   "cell_type": "code",
   "execution_count": 158,
   "metadata": {},
   "outputs": [],
   "source": [
    "# 2017년도 재직중인 사람을 찾아보자.\n",
    "flag = df['입사일'] < '20171231'\n",
    "flag2 = df['퇴사일'] > '20171231'"
   ]
  },
  {
   "cell_type": "code",
   "execution_count": 159,
   "metadata": {},
   "outputs": [
    {
     "data": {
      "text/plain": [
       "0     False\n",
       "1     False\n",
       "2     False\n",
       "3     False\n",
       "4     False\n",
       "      ...  \n",
       "95    False\n",
       "96     True\n",
       "97    False\n",
       "98    False\n",
       "99    False\n",
       "Length: 100, dtype: bool"
      ]
     },
     "execution_count": 159,
     "metadata": {},
     "output_type": "execute_result"
    }
   ],
   "source": [
    "flag & flag2"
   ]
  },
  {
   "cell_type": "code",
   "execution_count": 160,
   "metadata": {},
   "outputs": [
    {
     "data": {
      "text/html": [
       "<div>\n",
       "<style scoped>\n",
       "    .dataframe tbody tr th:only-of-type {\n",
       "        vertical-align: middle;\n",
       "    }\n",
       "\n",
       "    .dataframe tbody tr th {\n",
       "        vertical-align: top;\n",
       "    }\n",
       "\n",
       "    .dataframe thead th {\n",
       "        text-align: right;\n",
       "    }\n",
       "</style>\n",
       "<table border=\"1\" class=\"dataframe\">\n",
       "  <thead>\n",
       "    <tr style=\"text-align: right;\">\n",
       "      <th></th>\n",
       "      <th>email</th>\n",
       "      <th>입사일</th>\n",
       "      <th>퇴사일</th>\n",
       "    </tr>\n",
       "  </thead>\n",
       "  <tbody>\n",
       "    <tr>\n",
       "      <th>5</th>\n",
       "      <td>vznwdycsf@hanmail.net</td>\n",
       "      <td>2017-03-09</td>\n",
       "      <td>2023-10-06</td>\n",
       "    </tr>\n",
       "    <tr>\n",
       "      <th>23</th>\n",
       "      <td>bprhg@yahoo.com</td>\n",
       "      <td>2017-05-31</td>\n",
       "      <td>2022-11-07</td>\n",
       "    </tr>\n",
       "    <tr>\n",
       "      <th>31</th>\n",
       "      <td>nizgxrjeb@hanmail.net</td>\n",
       "      <td>2017-08-11</td>\n",
       "      <td>2022-06-11</td>\n",
       "    </tr>\n",
       "    <tr>\n",
       "      <th>32</th>\n",
       "      <td>vrzedwiy@hanmail.net</td>\n",
       "      <td>2017-02-11</td>\n",
       "      <td>2018-10-26</td>\n",
       "    </tr>\n",
       "    <tr>\n",
       "      <th>54</th>\n",
       "      <td>gvbh@hanmail.net</td>\n",
       "      <td>2017-02-26</td>\n",
       "      <td>2023-05-16</td>\n",
       "    </tr>\n",
       "    <tr>\n",
       "      <th>56</th>\n",
       "      <td>euyhlkcvd@hanmail.net</td>\n",
       "      <td>2017-01-09</td>\n",
       "      <td>2021-07-14</td>\n",
       "    </tr>\n",
       "    <tr>\n",
       "      <th>57</th>\n",
       "      <td>wxryjk@gmail.com</td>\n",
       "      <td>2017-07-26</td>\n",
       "      <td>2019-11-04</td>\n",
       "    </tr>\n",
       "    <tr>\n",
       "      <th>85</th>\n",
       "      <td>hvqbpd@hanmail.net</td>\n",
       "      <td>2017-05-27</td>\n",
       "      <td>2023-12-24</td>\n",
       "    </tr>\n",
       "    <tr>\n",
       "      <th>92</th>\n",
       "      <td>sqyxhig@gmail.com</td>\n",
       "      <td>2017-08-14</td>\n",
       "      <td>2020-04-09</td>\n",
       "    </tr>\n",
       "    <tr>\n",
       "      <th>96</th>\n",
       "      <td>ocbhairw@hanmail.net</td>\n",
       "      <td>2017-11-06</td>\n",
       "      <td>2019-11-21</td>\n",
       "    </tr>\n",
       "  </tbody>\n",
       "</table>\n",
       "</div>"
      ],
      "text/plain": [
       "                    email        입사일        퇴사일\n",
       "5   vznwdycsf@hanmail.net 2017-03-09 2023-10-06\n",
       "23        bprhg@yahoo.com 2017-05-31 2022-11-07\n",
       "31  nizgxrjeb@hanmail.net 2017-08-11 2022-06-11\n",
       "32   vrzedwiy@hanmail.net 2017-02-11 2018-10-26\n",
       "54       gvbh@hanmail.net 2017-02-26 2023-05-16\n",
       "56  euyhlkcvd@hanmail.net 2017-01-09 2021-07-14\n",
       "57       wxryjk@gmail.com 2017-07-26 2019-11-04\n",
       "85     hvqbpd@hanmail.net 2017-05-27 2023-12-24\n",
       "92      sqyxhig@gmail.com 2017-08-14 2020-04-09\n",
       "96   ocbhairw@hanmail.net 2017-11-06 2019-11-21"
      ]
     },
     "execution_count": 160,
     "metadata": {},
     "output_type": "execute_result"
    }
   ],
   "source": [
    "df.loc[flag & flag2]"
   ]
  },
  {
   "cell_type": "code",
   "execution_count": 161,
   "metadata": {},
   "outputs": [],
   "source": [
    "# 여러 해를 반복할 수 있는 함수를 만들어보자.\n",
    "def func_1(_df, _date):\n",
    "    _date = _date + \"1231\"\n",
    "    _date2 = _date + \"0101\"\n",
    "    flag = _df['입사일'] < _date\n",
    "    flag2 = _df['퇴사일'] > _date2\n",
    "    \n",
    "    return _df.loc[flag & flag2]"
   ]
  },
  {
   "cell_type": "code",
   "execution_count": 162,
   "metadata": {},
   "outputs": [
    {
     "data": {
      "text/html": [
       "<div>\n",
       "<style scoped>\n",
       "    .dataframe tbody tr th:only-of-type {\n",
       "        vertical-align: middle;\n",
       "    }\n",
       "\n",
       "    .dataframe tbody tr th {\n",
       "        vertical-align: top;\n",
       "    }\n",
       "\n",
       "    .dataframe thead th {\n",
       "        text-align: right;\n",
       "    }\n",
       "</style>\n",
       "<table border=\"1\" class=\"dataframe\">\n",
       "  <thead>\n",
       "    <tr style=\"text-align: right;\">\n",
       "      <th></th>\n",
       "      <th>email</th>\n",
       "      <th>입사일</th>\n",
       "      <th>퇴사일</th>\n",
       "    </tr>\n",
       "  </thead>\n",
       "  <tbody>\n",
       "  </tbody>\n",
       "</table>\n",
       "</div>"
      ],
      "text/plain": [
       "Empty DataFrame\n",
       "Columns: [email, 입사일, 퇴사일]\n",
       "Index: []"
      ]
     },
     "execution_count": 162,
     "metadata": {},
     "output_type": "execute_result"
    }
   ],
   "source": [
    "func_1(df, '2023')"
   ]
  },
  {
   "cell_type": "code",
   "execution_count": 163,
   "metadata": {},
   "outputs": [],
   "source": [
    "# 231015 폴더에 excel_data 폴더를 하나 만들어놓고 작업해봅시다."
   ]
  },
  {
   "cell_type": "code",
   "execution_count": 164,
   "metadata": {},
   "outputs": [],
   "source": [
    "for year in range(2017,2024):\n",
    "    data = func_1(df, str(year))\n",
    "    data.to_excel(f\"./excel_data/{year}.xlsx\")   #.은 현재 폴더를 의미"
   ]
  },
  {
   "cell_type": "code",
   "execution_count": 165,
   "metadata": {},
   "outputs": [],
   "source": [
    "# 월별로 재직자를 본다면?"
   ]
  },
  {
   "cell_type": "code",
   "execution_count": 166,
   "metadata": {},
   "outputs": [],
   "source": [
    "import calendar"
   ]
  },
  {
   "cell_type": "code",
   "execution_count": 167,
   "metadata": {},
   "outputs": [],
   "source": [
    "def func_2(_df, _year, _month):\n",
    "    if(len(str(_month)) == 1) :\n",
    "        _date = str(_year) + '0' + str(_month)\n",
    "    else:\n",
    "        _date = str(_year) + str(_month)\n",
    "    _date1 = _date + str(calendar.monthrange(_year, _month)[-1]) #말일을 뽑을 수 있음\n",
    "    _date2 = _date + '0'+ str(calendar.monthrange(_year, _month)[0])\n",
    "    print(_date, _date1, _date2)\n",
    "    flag = df['입사일'] < _date1\n",
    "    flag = df['퇴사일'] > _date2\n",
    "    return _df.loc[flag & flag2]\n",
    "\n",
    "# 선생님이 무식한 방법이래요.\n",
    "    "
   ]
  },
  {
   "cell_type": "code",
   "execution_count": 168,
   "metadata": {},
   "outputs": [
    {
     "name": "stdout",
     "output_type": "stream",
     "text": [
      "201702 20170228 20170202\n"
     ]
    },
    {
     "data": {
      "text/html": [
       "<div>\n",
       "<style scoped>\n",
       "    .dataframe tbody tr th:only-of-type {\n",
       "        vertical-align: middle;\n",
       "    }\n",
       "\n",
       "    .dataframe tbody tr th {\n",
       "        vertical-align: top;\n",
       "    }\n",
       "\n",
       "    .dataframe thead th {\n",
       "        text-align: right;\n",
       "    }\n",
       "</style>\n",
       "<table border=\"1\" class=\"dataframe\">\n",
       "  <thead>\n",
       "    <tr style=\"text-align: right;\">\n",
       "      <th></th>\n",
       "      <th>email</th>\n",
       "      <th>입사일</th>\n",
       "      <th>퇴사일</th>\n",
       "    </tr>\n",
       "  </thead>\n",
       "  <tbody>\n",
       "    <tr>\n",
       "      <th>0</th>\n",
       "      <td>tfdcxgwy@hanmail.net</td>\n",
       "      <td>2020-06-22</td>\n",
       "      <td>2021-06-23</td>\n",
       "    </tr>\n",
       "    <tr>\n",
       "      <th>1</th>\n",
       "      <td>izyhakf@hanmail.net</td>\n",
       "      <td>2021-02-21</td>\n",
       "      <td>2022-12-31</td>\n",
       "    </tr>\n",
       "    <tr>\n",
       "      <th>2</th>\n",
       "      <td>camx@hanmail.net</td>\n",
       "      <td>2020-08-10</td>\n",
       "      <td>2022-10-26</td>\n",
       "    </tr>\n",
       "    <tr>\n",
       "      <th>3</th>\n",
       "      <td>uyema@gmail.com</td>\n",
       "      <td>2018-06-07</td>\n",
       "      <td>2021-05-06</td>\n",
       "    </tr>\n",
       "    <tr>\n",
       "      <th>4</th>\n",
       "      <td>vixlcd@yahoo.com</td>\n",
       "      <td>2022-06-11</td>\n",
       "      <td>2022-12-22</td>\n",
       "    </tr>\n",
       "    <tr>\n",
       "      <th>...</th>\n",
       "      <td>...</td>\n",
       "      <td>...</td>\n",
       "      <td>...</td>\n",
       "    </tr>\n",
       "    <tr>\n",
       "      <th>95</th>\n",
       "      <td>mqdpcgs@hanmail.net</td>\n",
       "      <td>2019-05-05</td>\n",
       "      <td>2020-04-04</td>\n",
       "    </tr>\n",
       "    <tr>\n",
       "      <th>96</th>\n",
       "      <td>ocbhairw@hanmail.net</td>\n",
       "      <td>2017-11-06</td>\n",
       "      <td>2019-11-21</td>\n",
       "    </tr>\n",
       "    <tr>\n",
       "      <th>97</th>\n",
       "      <td>awsvqdkzp@naver.com</td>\n",
       "      <td>2021-01-07</td>\n",
       "      <td>2021-05-20</td>\n",
       "    </tr>\n",
       "    <tr>\n",
       "      <th>98</th>\n",
       "      <td>caqzd@gmail.com</td>\n",
       "      <td>2022-06-23</td>\n",
       "      <td>2023-10-08</td>\n",
       "    </tr>\n",
       "    <tr>\n",
       "      <th>99</th>\n",
       "      <td>lcdmkoft@gmail.com</td>\n",
       "      <td>2019-11-19</td>\n",
       "      <td>2022-06-18</td>\n",
       "    </tr>\n",
       "  </tbody>\n",
       "</table>\n",
       "<p>99 rows × 3 columns</p>\n",
       "</div>"
      ],
      "text/plain": [
       "                   email        입사일        퇴사일\n",
       "0   tfdcxgwy@hanmail.net 2020-06-22 2021-06-23\n",
       "1    izyhakf@hanmail.net 2021-02-21 2022-12-31\n",
       "2       camx@hanmail.net 2020-08-10 2022-10-26\n",
       "3        uyema@gmail.com 2018-06-07 2021-05-06\n",
       "4       vixlcd@yahoo.com 2022-06-11 2022-12-22\n",
       "..                   ...        ...        ...\n",
       "95   mqdpcgs@hanmail.net 2019-05-05 2020-04-04\n",
       "96  ocbhairw@hanmail.net 2017-11-06 2019-11-21\n",
       "97   awsvqdkzp@naver.com 2021-01-07 2021-05-20\n",
       "98       caqzd@gmail.com 2022-06-23 2023-10-08\n",
       "99    lcdmkoft@gmail.com 2019-11-19 2022-06-18\n",
       "\n",
       "[99 rows x 3 columns]"
      ]
     },
     "execution_count": 168,
     "metadata": {},
     "output_type": "execute_result"
    }
   ],
   "source": [
    "func_2(df, 2017, 2)"
   ]
  },
  {
   "cell_type": "code",
   "execution_count": 172,
   "metadata": {},
   "outputs": [],
   "source": [
    "def func_3(_df, _year, _month):\n",
    "    last_day = calendar.monthrange(_year, _month)[-1]\n",
    "    first_day = calendar.monthrange(_year, _month)[0]\n",
    "    _date1 = datetime(_year, _month, last_day)\n",
    "    _date2 = datetime(_year, _month, first_day+1)\n",
    "    print(_date1, _date2)\n",
    "    flag = df['입사일'] < _date1\n",
    "    flag2 = df['퇴사일'] > _date2\n",
    "    return _df.loc[flag & flag2]"
   ]
  },
  {
   "cell_type": "code",
   "execution_count": 173,
   "metadata": {},
   "outputs": [
    {
     "name": "stdout",
     "output_type": "stream",
     "text": [
      "2017-02-28 00:00:00 2017-02-03 00:00:00\n"
     ]
    },
    {
     "data": {
      "text/html": [
       "<div>\n",
       "<style scoped>\n",
       "    .dataframe tbody tr th:only-of-type {\n",
       "        vertical-align: middle;\n",
       "    }\n",
       "\n",
       "    .dataframe tbody tr th {\n",
       "        vertical-align: top;\n",
       "    }\n",
       "\n",
       "    .dataframe thead th {\n",
       "        text-align: right;\n",
       "    }\n",
       "</style>\n",
       "<table border=\"1\" class=\"dataframe\">\n",
       "  <thead>\n",
       "    <tr style=\"text-align: right;\">\n",
       "      <th></th>\n",
       "      <th>email</th>\n",
       "      <th>입사일</th>\n",
       "      <th>퇴사일</th>\n",
       "    </tr>\n",
       "  </thead>\n",
       "  <tbody>\n",
       "    <tr>\n",
       "      <th>32</th>\n",
       "      <td>vrzedwiy@hanmail.net</td>\n",
       "      <td>2017-02-11</td>\n",
       "      <td>2018-10-26</td>\n",
       "    </tr>\n",
       "    <tr>\n",
       "      <th>54</th>\n",
       "      <td>gvbh@hanmail.net</td>\n",
       "      <td>2017-02-26</td>\n",
       "      <td>2023-05-16</td>\n",
       "    </tr>\n",
       "    <tr>\n",
       "      <th>56</th>\n",
       "      <td>euyhlkcvd@hanmail.net</td>\n",
       "      <td>2017-01-09</td>\n",
       "      <td>2021-07-14</td>\n",
       "    </tr>\n",
       "  </tbody>\n",
       "</table>\n",
       "</div>"
      ],
      "text/plain": [
       "                    email        입사일        퇴사일\n",
       "32   vrzedwiy@hanmail.net 2017-02-11 2018-10-26\n",
       "54       gvbh@hanmail.net 2017-02-26 2023-05-16\n",
       "56  euyhlkcvd@hanmail.net 2017-01-09 2021-07-14"
      ]
     },
     "execution_count": 173,
     "metadata": {},
     "output_type": "execute_result"
    }
   ],
   "source": [
    "func_3(df, 2017, 2)"
   ]
  },
  {
   "cell_type": "code",
   "execution_count": 174,
   "metadata": {},
   "outputs": [
    {
     "name": "stdout",
     "output_type": "stream",
     "text": [
      "2017-01-31 00:00:00 2017-01-07 00:00:00\n",
      "2017-02-28 00:00:00 2017-02-03 00:00:00\n",
      "2017-03-31 00:00:00 2017-03-03 00:00:00\n",
      "2017-04-30 00:00:00 2017-04-06 00:00:00\n",
      "2017-05-31 00:00:00 2017-05-01 00:00:00\n",
      "2017-06-30 00:00:00 2017-06-04 00:00:00\n",
      "2017-07-31 00:00:00 2017-07-06 00:00:00\n",
      "2017-08-31 00:00:00 2017-08-02 00:00:00\n",
      "2017-09-30 00:00:00 2017-09-05 00:00:00\n",
      "2017-10-31 00:00:00 2017-10-07 00:00:00\n",
      "2017-11-30 00:00:00 2017-11-03 00:00:00\n",
      "2017-12-31 00:00:00 2017-12-05 00:00:00\n",
      "2018-01-31 00:00:00 2018-01-01 00:00:00\n",
      "2018-02-28 00:00:00 2018-02-04 00:00:00\n",
      "2018-03-31 00:00:00 2018-03-04 00:00:00\n",
      "2018-04-30 00:00:00 2018-04-07 00:00:00\n",
      "2018-05-31 00:00:00 2018-05-02 00:00:00\n",
      "2018-06-30 00:00:00 2018-06-05 00:00:00\n",
      "2018-07-31 00:00:00 2018-07-07 00:00:00\n",
      "2018-08-31 00:00:00 2018-08-03 00:00:00\n",
      "2018-09-30 00:00:00 2018-09-06 00:00:00\n",
      "2018-10-31 00:00:00 2018-10-01 00:00:00\n",
      "2018-11-30 00:00:00 2018-11-04 00:00:00\n",
      "2018-12-31 00:00:00 2018-12-06 00:00:00\n",
      "2019-01-31 00:00:00 2019-01-02 00:00:00\n",
      "2019-02-28 00:00:00 2019-02-05 00:00:00\n",
      "2019-03-31 00:00:00 2019-03-05 00:00:00\n",
      "2019-04-30 00:00:00 2019-04-01 00:00:00\n",
      "2019-05-31 00:00:00 2019-05-03 00:00:00\n",
      "2019-06-30 00:00:00 2019-06-06 00:00:00\n",
      "2019-07-31 00:00:00 2019-07-01 00:00:00\n",
      "2019-08-31 00:00:00 2019-08-04 00:00:00\n",
      "2019-09-30 00:00:00 2019-09-07 00:00:00\n",
      "2019-10-31 00:00:00 2019-10-02 00:00:00\n",
      "2019-11-30 00:00:00 2019-11-05 00:00:00\n",
      "2019-12-31 00:00:00 2019-12-07 00:00:00\n",
      "2020-01-31 00:00:00 2020-01-03 00:00:00\n",
      "2020-02-29 00:00:00 2020-02-06 00:00:00\n",
      "2020-03-31 00:00:00 2020-03-07 00:00:00\n",
      "2020-04-30 00:00:00 2020-04-03 00:00:00\n",
      "2020-05-31 00:00:00 2020-05-05 00:00:00\n",
      "2020-06-30 00:00:00 2020-06-01 00:00:00\n",
      "2020-07-31 00:00:00 2020-07-03 00:00:00\n",
      "2020-08-31 00:00:00 2020-08-06 00:00:00\n",
      "2020-09-30 00:00:00 2020-09-02 00:00:00\n",
      "2020-10-31 00:00:00 2020-10-04 00:00:00\n",
      "2020-11-30 00:00:00 2020-11-07 00:00:00\n",
      "2020-12-31 00:00:00 2020-12-02 00:00:00\n",
      "2021-01-31 00:00:00 2021-01-05 00:00:00\n",
      "2021-02-28 00:00:00 2021-02-01 00:00:00\n",
      "2021-03-31 00:00:00 2021-03-01 00:00:00\n",
      "2021-04-30 00:00:00 2021-04-04 00:00:00\n",
      "2021-05-31 00:00:00 2021-05-06 00:00:00\n",
      "2021-06-30 00:00:00 2021-06-02 00:00:00\n",
      "2021-07-31 00:00:00 2021-07-04 00:00:00\n",
      "2021-08-31 00:00:00 2021-08-07 00:00:00\n",
      "2021-09-30 00:00:00 2021-09-03 00:00:00\n",
      "2021-10-31 00:00:00 2021-10-05 00:00:00\n",
      "2021-11-30 00:00:00 2021-11-01 00:00:00\n",
      "2021-12-31 00:00:00 2021-12-03 00:00:00\n",
      "2022-01-31 00:00:00 2022-01-06 00:00:00\n",
      "2022-02-28 00:00:00 2022-02-02 00:00:00\n",
      "2022-03-31 00:00:00 2022-03-02 00:00:00\n",
      "2022-04-30 00:00:00 2022-04-05 00:00:00\n",
      "2022-05-31 00:00:00 2022-05-07 00:00:00\n",
      "2022-06-30 00:00:00 2022-06-03 00:00:00\n",
      "2022-07-31 00:00:00 2022-07-05 00:00:00\n",
      "2022-08-31 00:00:00 2022-08-01 00:00:00\n",
      "2022-09-30 00:00:00 2022-09-04 00:00:00\n",
      "2022-10-31 00:00:00 2022-10-06 00:00:00\n",
      "2022-11-30 00:00:00 2022-11-02 00:00:00\n",
      "2022-12-31 00:00:00 2022-12-04 00:00:00\n",
      "2023-01-31 00:00:00 2023-01-07 00:00:00\n",
      "2023-02-28 00:00:00 2023-02-03 00:00:00\n",
      "2023-03-31 00:00:00 2023-03-03 00:00:00\n",
      "2023-04-30 00:00:00 2023-04-06 00:00:00\n",
      "2023-05-31 00:00:00 2023-05-01 00:00:00\n",
      "2023-06-30 00:00:00 2023-06-04 00:00:00\n",
      "2023-07-31 00:00:00 2023-07-06 00:00:00\n",
      "2023-08-31 00:00:00 2023-08-02 00:00:00\n",
      "2023-09-30 00:00:00 2023-09-05 00:00:00\n",
      "2023-10-31 00:00:00 2023-10-07 00:00:00\n",
      "2023-11-30 00:00:00 2023-11-03 00:00:00\n",
      "2023-12-31 00:00:00 2023-12-05 00:00:00\n"
     ]
    }
   ],
   "source": [
    "# 다중 for문 사용\n",
    "# 첫번째 for문 (2017 - 2023)\n",
    "for year in range(2017,2024):\n",
    "    # 두번째 for문 (1 - 12)\n",
    "    for month in range(1,13):\n",
    "        # print(year, month)\n",
    "        data = func_3(df, year, month)\n",
    "        data.to_excel(f\"./excel_data/{year}-{month}.xlsx\")"
   ]
  },
  {
   "cell_type": "code",
   "execution_count": null,
   "metadata": {},
   "outputs": [],
   "source": []
  }
 ],
 "metadata": {
  "kernelspec": {
   "display_name": "Python 3",
   "language": "python",
   "name": "python3"
  },
  "language_info": {
   "codemirror_mode": {
    "name": "ipython",
    "version": 3
   },
   "file_extension": ".py",
   "mimetype": "text/x-python",
   "name": "python",
   "nbconvert_exporter": "python",
   "pygments_lexer": "ipython3",
   "version": "3.11.5"
  }
 },
 "nbformat": 4,
 "nbformat_minor": 2
}
