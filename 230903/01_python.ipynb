{
 "cells": [
  {
   "cell_type": "code",
   "execution_count": 3,
   "metadata": {},
   "outputs": [
    {
     "name": "stdout",
     "output_type": "stream",
     "text": [
      "10\n",
      "test\n"
     ]
    }
   ],
   "source": [
    "# 주석\n",
    "# 실행이 되지 않는 부분\n",
    "# 코드에 대한 설명을 쓰는 부분\n",
    "\n",
    "# 변수 생성\n",
    "a = 10\n",
    "b = \"test\"\n",
    "# 변수 출력\n",
    "print(a)\n",
    "print(b)"
   ]
  },
  {
   "cell_type": "code",
   "execution_count": 4,
   "metadata": {},
   "outputs": [
    {
     "name": "stdout",
     "output_type": "stream",
     "text": [
      "<class 'int'>\n",
      "<class 'str'>\n"
     ]
    }
   ],
   "source": [
    "# 변수의 타입을 확인\n",
    "print(type(a))\n",
    "print(type(b))"
   ]
  },
  {
   "cell_type": "code",
   "execution_count": 5,
   "metadata": {},
   "outputs": [
    {
     "name": "stdout",
     "output_type": "stream",
     "text": [
      "True\n",
      "<class 'bool'>\n"
     ]
    }
   ],
   "source": [
    "# bool형태의 데이터\n",
    "a = True\n",
    "print(a)\n",
    "print(type(a))"
   ]
  },
  {
   "cell_type": "code",
   "execution_count": 6,
   "metadata": {},
   "outputs": [
    {
     "name": "stdout",
     "output_type": "stream",
     "text": [
      "10 4 21 2.3333333333333335 2 1 343\n"
     ]
    }
   ],
   "source": [
    "# 산술연산자\n",
    "a = 7\n",
    "b = 3\n",
    "\n",
    "print(a+b, a-b, a*b, a/b, a//b, a%b, a**b)"
   ]
  },
  {
   "cell_type": "code",
   "execution_count": 7,
   "metadata": {},
   "outputs": [
    {
     "name": "stdout",
     "output_type": "stream",
     "text": [
      "8.5\n",
      "5.0\n"
     ]
    }
   ],
   "source": [
    "# 산술연산자의 우선순위\n",
    "c = 2\n",
    "\n",
    "print(a+b/c)\n",
    "print((a+b)/c)"
   ]
  },
  {
   "cell_type": "code",
   "execution_count": 9,
   "metadata": {},
   "outputs": [
    {
     "name": "stdout",
     "output_type": "stream",
     "text": [
      "10\n",
      "7\n",
      "10\n"
     ]
    }
   ],
   "source": [
    "# 대입연산자(써도 되고 안 써도 되는데, 쓰는 걸 추천합니다.)\n",
    "a = 7\n",
    "print(a+3)  # 10\n",
    "print(a)    # 7\n",
    "a += 3      # a = a + 3\n",
    "print(a)    # 10\n"
   ]
  },
  {
   "cell_type": "markdown",
   "metadata": {},
   "source": [
    "### 조건문\n",
    "- 조건식을 기준으로 참인 경우 실행할 코드와 거짓인 경우 실행할 코드를 작성"
   ]
  },
  {
   "cell_type": "code",
   "execution_count": 11,
   "metadata": {},
   "outputs": [],
   "source": [
    "# 조건문 (if문)\n",
    "x = 15\n",
    "\n",
    "if x < 10:\n",
    "    print(\"x는 10보다 작다.\")"
   ]
  },
  {
   "cell_type": "code",
   "execution_count": 12,
   "metadata": {},
   "outputs": [
    {
     "name": "stdout",
     "output_type": "stream",
     "text": [
      "x는 10보다 크거나 같다.\n"
     ]
    }
   ],
   "source": [
    "# if ~ else문\n",
    "if x < 10:\n",
    "    print(\"x는 10보다 작다.\")\n",
    "else:\n",
    "    print(\"x는 10보다 크거나 같다.\")"
   ]
  },
  {
   "cell_type": "code",
   "execution_count": 14,
   "metadata": {},
   "outputs": [
    {
     "name": "stdout",
     "output_type": "stream",
     "text": [
      "A\n",
      "프로그램을 종료합니다.\n"
     ]
    }
   ],
   "source": [
    "# 조건식이 여러 개인 경우\n",
    "# input()함수는 유저가 입력할 수 있는 창을 새로 만들어서 입력값을 받아오는 함수(데이터의 형태가 문자형)\n",
    "# int()함수는 데이터를 정수형 데이터로 변환\n",
    "score = int(input(\"점수를 입력하세요: \"))\n",
    "\n",
    "if score >= 90:\n",
    "    print(\"A\")\n",
    "elif score >= 80:\n",
    "    print(\"B\")\n",
    "elif score >= 70:\n",
    "    print(\"C\")\n",
    "elif score >= 60:\n",
    "    print(\"D\")\n",
    "else:\n",
    "    print(\"F\")\n",
    "    \n",
    "print(\"프로그램을 종료합니다.\")"
   ]
  },
  {
   "cell_type": "markdown",
   "metadata": {},
   "source": [
    "### 반복문\n",
    "- for문\n",
    "  -자료형 데이터의 개수만큼 반복 실행\n",
    "- while문\n",
    "  -해당하는 조건식이 거짓일 때까지 반복 실행"
   ]
  },
  {
   "cell_type": "code",
   "execution_count": 15,
   "metadata": {},
   "outputs": [
    {
     "name": "stdout",
     "output_type": "stream",
     "text": [
      "range(0, 5)\n",
      "[0, 1, 2, 3, 4]\n"
     ]
    }
   ],
   "source": [
    "# range(시작값, 종료값, 증가값)\n",
    "print(range(0, 5, 1))\n",
    "print(list(range(0, 5, 1)))"
   ]
  },
  {
   "cell_type": "code",
   "execution_count": 16,
   "metadata": {},
   "outputs": [
    {
     "name": "stdout",
     "output_type": "stream",
     "text": [
      "0\n",
      "1\n",
      "2\n",
      "3\n",
      "4\n"
     ]
    }
   ],
   "source": [
    "for i in range (0, 5, 1):\n",
    "    print(i)"
   ]
  },
  {
   "cell_type": "code",
   "execution_count": 17,
   "metadata": {},
   "outputs": [
    {
     "name": "stdout",
     "output_type": "stream",
     "text": [
      "0\n",
      "1\n",
      "2\n",
      "3\n",
      "4\n"
     ]
    }
   ],
   "source": [
    "for i in range(5):\n",
    "    print(i)"
   ]
  },
  {
   "cell_type": "code",
   "execution_count": 18,
   "metadata": {},
   "outputs": [
    {
     "name": "stdout",
     "output_type": "stream",
     "text": [
      "1\n",
      "5\n",
      "9\n",
      "11\n"
     ]
    }
   ],
   "source": [
    "list_a = [1,5,9,11]\n",
    "\n",
    "for i in list_a:\n",
    "    print(i)"
   ]
  },
  {
   "cell_type": "code",
   "execution_count": 19,
   "metadata": {},
   "outputs": [
    {
     "name": "stdout",
     "output_type": "stream",
     "text": [
      "1\n",
      "5\n",
      "9\n",
      "11\n"
     ]
    }
   ],
   "source": [
    "# 리스트의 길이를 출력하는 함수: len()\n",
    "for i in range(0,len(list_a), 1):\n",
    "    print(list_a[i])"
   ]
  },
  {
   "cell_type": "code",
   "execution_count": 22,
   "metadata": {},
   "outputs": [
    {
     "name": "stdout",
     "output_type": "stream",
     "text": [
      "55\n"
     ]
    }
   ],
   "source": [
    "## 1부터 10까지의 합계를 반복문을 이용하여 계산\n",
    "\n",
    "# 합계라는 변수를 초기값을 대입하여 변수 생성\n",
    "result=0\n",
    "\n",
    "for i in range(1,11,1):\n",
    "    # i는 1,2,3,4,5,6,7,8,9,10\n",
    "    result += i\n",
    "    # result = result + i\n",
    "print(result)    "
   ]
  },
  {
   "cell_type": "code",
   "execution_count": 23,
   "metadata": {},
   "outputs": [
    {
     "name": "stdout",
     "output_type": "stream",
     "text": [
      "0 0\n",
      "0 1\n",
      "0 2\n",
      "0 3\n",
      "0 4\n",
      "1 0\n",
      "1 1\n",
      "1 2\n",
      "1 3\n",
      "1 4\n",
      "2 0\n",
      "2 1\n",
      "2 2\n",
      "2 3\n",
      "2 4\n",
      "3 0\n",
      "3 1\n",
      "3 2\n",
      "3 3\n",
      "3 4\n",
      "4 0\n",
      "4 1\n",
      "4 2\n",
      "4 3\n",
      "4 4\n"
     ]
    }
   ],
   "source": [
    "# 다중 for문\n",
    "for i in range(0,5,1):\n",
    "    for j in range(0,5,1):\n",
    "        print(i,j)"
   ]
  },
  {
   "cell_type": "code",
   "execution_count": 34,
   "metadata": {},
   "outputs": [
    {
     "name": "stdout",
     "output_type": "stream",
     "text": [
      "2 단 시작\n",
      "2 X 1 = 2\n",
      "2 X 2 = 4\n",
      "2 X 3 = 6\n",
      "2 X 4 = 8\n",
      "2 X 5 = 10\n",
      "2 X 6 = 12\n",
      "2 X 7 = 14\n",
      "2 X 8 = 16\n",
      "2 X 9 = 18\n",
      "2 단 종료\n",
      "3 단 시작\n",
      "3 X 1 = 3\n",
      "3 X 2 = 6\n",
      "3 X 3 = 9\n",
      "3 X 4 = 12\n",
      "3 X 5 = 15\n",
      "3 X 6 = 18\n",
      "3 X 7 = 21\n",
      "3 X 8 = 24\n",
      "3 X 9 = 27\n",
      "3 단 종료\n",
      "4 단 시작\n",
      "4 X 1 = 4\n",
      "4 X 2 = 8\n",
      "4 X 3 = 12\n",
      "4 X 4 = 16\n",
      "4 X 5 = 20\n",
      "4 X 6 = 24\n",
      "4 X 7 = 28\n",
      "4 X 8 = 32\n",
      "4 X 9 = 36\n",
      "4 단 종료\n",
      "5 단 시작\n",
      "5 X 1 = 5\n",
      "5 X 2 = 10\n",
      "5 X 3 = 15\n",
      "5 X 4 = 20\n",
      "5 X 5 = 25\n",
      "5 X 6 = 30\n",
      "5 X 7 = 35\n",
      "5 X 8 = 40\n",
      "5 X 9 = 45\n",
      "5 단 종료\n",
      "6 단 시작\n",
      "6 X 1 = 6\n",
      "6 X 2 = 12\n",
      "6 X 3 = 18\n",
      "6 X 4 = 24\n",
      "6 X 5 = 30\n",
      "6 X 6 = 36\n",
      "6 X 7 = 42\n",
      "6 X 8 = 48\n",
      "6 X 9 = 54\n",
      "6 단 종료\n",
      "7 단 시작\n",
      "7 X 1 = 7\n",
      "7 X 2 = 14\n",
      "7 X 3 = 21\n",
      "7 X 4 = 28\n",
      "7 X 5 = 35\n",
      "7 X 6 = 42\n",
      "7 X 7 = 49\n",
      "7 X 8 = 56\n",
      "7 X 9 = 63\n",
      "7 단 종료\n",
      "8 단 시작\n",
      "8 X 1 = 8\n",
      "8 X 2 = 16\n",
      "8 X 3 = 24\n",
      "8 X 4 = 32\n",
      "8 X 5 = 40\n",
      "8 X 6 = 48\n",
      "8 X 7 = 56\n",
      "8 X 8 = 64\n",
      "8 X 9 = 72\n",
      "8 단 종료\n",
      "9 단 시작\n",
      "9 X 1 = 9\n",
      "9 X 2 = 18\n",
      "9 X 3 = 27\n",
      "9 X 4 = 36\n",
      "9 X 5 = 45\n",
      "9 X 6 = 54\n",
      "9 X 7 = 63\n",
      "9 X 8 = 72\n",
      "9 X 9 = 81\n",
      "9 단 종료\n"
     ]
    }
   ],
   "source": [
    "# 구구단 생성\n",
    "# 2단부터 9단까지\n",
    "for i in range(2,10,1):\n",
    "    print(i,\"단 시작\")\n",
    "    for j in range(1,10,1):\n",
    "        print(i, \"X\", j, \"=\", i*j)\n",
    "    print(i,\"단 종료\")   #첫번째 for문 안에 있으므로, 2단 끝날 때 한 번, 3단 끝날 때 한 번...i가 10미만 갈 때까지 9번 반복한다."
   ]
  },
  {
   "cell_type": "markdown",
   "metadata": {},
   "source": [
    "### 반복문 예제문제\n",
    "1. 1부터 50까지의 숫자 중 3의 배수의 합을 구하시오.\n",
    "    - 합계라는 초기 값을 지정(0)\n",
    "    - for문을 이용하여 1부터 50까지 반복을 하는 반복문 생성\n",
    "    - 1부터 50까지의 합계\n",
    "    - 조건식을 이용하여 3의 배수인 경우에만 합계에 더해질 수 있도록 조건문 행성\n",
    "    \n",
    "2. 두 개의 주사위의 합이 5 이상인 경우를 출력하시오.\n",
    "    - 첫번째 반복문에서 첫번째 주사위의 경우의 수를 반복문으로 생성\n",
    "    - 두번째 반복문에서는 두번째 주사위의 경우의 수를 반복문으로 생성\n",
    "    - 두 개의 주사위의 합이 5보다 크거나 같다는 조건식 생성\n",
    "    - 조건식이 참인 경우의 두 주사위의 숫자를 출력"
   ]
  },
  {
   "cell_type": "code",
   "execution_count": 49,
   "metadata": {},
   "outputs": [
    {
     "name": "stdout",
     "output_type": "stream",
     "text": [
      "1275\n"
     ]
    }
   ],
   "source": [
    "# 예제1)\n",
    "# 합계라는 초기 변수를 생성\n",
    "result=0\n",
    "\n",
    "# 1부터 50까지 반복을 하는 반복문을 생성\n",
    "for i in range(1,51,1):\n",
    "    # result에 i를 누적합\n",
    "    result += i\n",
    "    # result = result + i\n",
    "print(result)"
   ]
  },
  {
   "cell_type": "code",
   "execution_count": 51,
   "metadata": {},
   "outputs": [
    {
     "name": "stdout",
     "output_type": "stream",
     "text": [
      "408\n"
     ]
    }
   ],
   "source": [
    "# 예제1)\n",
    "# 합계라는 초기 변수를 생성\n",
    "result=0\n",
    "\n",
    "# 1부터 50까지 반복을 하는 반복문을 생성\n",
    "for i in range(1,51,1):\n",
    "    if i % 3 == 0:\n",
    "        # result에 i를 누적합\n",
    "        result += i\n",
    "        # result = result + i\n",
    "print(result)"
   ]
  },
  {
   "cell_type": "code",
   "execution_count": 52,
   "metadata": {},
   "outputs": [
    {
     "name": "stdout",
     "output_type": "stream",
     "text": [
      "408\n"
     ]
    }
   ],
   "source": [
    "# 예제1) 풀이2_별로 선호하지 않음\n",
    "result=0\n",
    "for i in range(0,51,3):\n",
    "    result += i\n",
    "    \n",
    "print(result)"
   ]
  },
  {
   "cell_type": "code",
   "execution_count": 53,
   "metadata": {},
   "outputs": [
    {
     "name": "stdout",
     "output_type": "stream",
     "text": [
      "1 4\n",
      "1 5\n",
      "1 6\n",
      "2 3\n",
      "2 4\n",
      "2 5\n",
      "2 6\n",
      "3 2\n",
      "3 3\n",
      "3 4\n",
      "3 5\n",
      "3 6\n",
      "4 1\n",
      "4 2\n",
      "4 3\n",
      "4 4\n",
      "4 5\n",
      "4 6\n",
      "5 1\n",
      "5 2\n",
      "5 3\n",
      "5 4\n",
      "5 5\n",
      "5 6\n",
      "6 1\n",
      "6 2\n",
      "6 3\n",
      "6 4\n",
      "6 5\n",
      "6 6\n"
     ]
    }
   ],
   "source": [
    "# 예제2) 지혜 풀이\n",
    "for i in range(1,7,1):\n",
    "    for j in range(1,7,1):\n",
    "        if i + j >=5:\n",
    "            print(i,j)"
   ]
  },
  {
   "cell_type": "code",
   "execution_count": 55,
   "metadata": {},
   "outputs": [
    {
     "name": "stdout",
     "output_type": "stream",
     "text": [
      "1 4\n",
      "1 5\n",
      "1 6\n",
      "2 3\n",
      "2 4\n",
      "2 5\n",
      "2 6\n",
      "3 2\n",
      "3 3\n",
      "3 4\n",
      "3 5\n",
      "3 6\n",
      "4 1\n",
      "4 2\n",
      "4 3\n",
      "4 4\n",
      "4 5\n",
      "4 6\n",
      "5 1\n",
      "5 2\n",
      "5 3\n",
      "5 4\n",
      "5 5\n",
      "5 6\n",
      "6 1\n",
      "6 2\n",
      "6 3\n",
      "6 4\n",
      "6 5\n",
      "6 6\n"
     ]
    }
   ],
   "source": [
    "# 예제2) 선생님 풀이\n",
    "for i in range(1,7,1):\n",
    "    for j in range(1,7,1):\n",
    "        # 두 주사위의 합이 5이상인 경우\n",
    "        if i + j >= 5:\n",
    "            # 주사위를 출력한다.\n",
    "            print(i,j)"
   ]
  },
  {
   "cell_type": "code",
   "execution_count": 57,
   "metadata": {},
   "outputs": [
    {
     "name": "stdout",
     "output_type": "stream",
     "text": [
      "0\n",
      "1\n",
      "2\n",
      "3\n",
      "4\n",
      "5\n",
      "6\n",
      "7\n",
      "8\n",
      "9\n"
     ]
    }
   ],
   "source": [
    "# while문\n",
    "\n",
    "# 초기값을 생성\n",
    "i=0\n",
    "# while조건식\n",
    "while i < 10:\n",
    "    # 반복 실행할 코드\n",
    "    print(i)\n",
    "    # 초기값을 증가\n",
    "    i += 1\n",
    "    # i = i + 1"
   ]
  },
  {
   "cell_type": "code",
   "execution_count": 58,
   "metadata": {},
   "outputs": [
    {
     "name": "stdout",
     "output_type": "stream",
     "text": [
      "1\n",
      "2\n",
      "3\n",
      "4\n",
      "5\n",
      "6\n",
      "7\n",
      "8\n",
      "9\n",
      "10\n"
     ]
    }
   ],
   "source": [
    "# while문\n",
    "\n",
    "# 초기값을 생성\n",
    "i=0\n",
    "# while조건식\n",
    "while i < 10:\n",
    "    # 반복 실행할 코드\n",
    "    # 초기값을 증가\n",
    "    i += 1\n",
    "    # i = i + 1\n",
    "    print(i)  # 마지막 i가 10까지 프린트한 다음 되돌아갔는데, i<10이 거짓이 되니까. 거기서 끝."
   ]
  },
  {
   "cell_type": "code",
   "execution_count": 60,
   "metadata": {},
   "outputs": [
    {
     "name": "stdout",
     "output_type": "stream",
     "text": [
      "55\n"
     ]
    }
   ],
   "source": [
    "# while문을 이용하여 1부터 10까지 합계\n",
    "\n",
    "result = 0\n",
    "i = 1\n",
    "\n",
    "while i <= 10:\n",
    "    # result에 i값을 누적합\n",
    "    result += i\n",
    "    i += 1\n",
    "    \n",
    "print(result)"
   ]
  },
  {
   "cell_type": "code",
   "execution_count": 63,
   "metadata": {},
   "outputs": [
    {
     "name": "stdout",
     "output_type": "stream",
     "text": [
      "1\n",
      "2\n",
      "3\n",
      "4\n"
     ]
    }
   ],
   "source": [
    "# break구문\n",
    "# 반복문을 강제로 종료\n",
    "for i in range(1,101,1):\n",
    "    if i == 5:\n",
    "        break\n",
    "    print(i)"
   ]
  },
  {
   "cell_type": "code",
   "execution_count": 64,
   "metadata": {},
   "outputs": [
    {
     "name": "stdout",
     "output_type": "stream",
     "text": [
      "1\n",
      "2\n",
      "3\n",
      "4\n",
      "5\n"
     ]
    }
   ],
   "source": [
    "# break구문\n",
    "# 반복문을 강제로 종료\n",
    "for i in range(1,101,1):\n",
    "    print(i)\n",
    "    if i == 5:\n",
    "        break"
   ]
  },
  {
   "cell_type": "code",
   "execution_count": 65,
   "metadata": {},
   "outputs": [
    {
     "name": "stdout",
     "output_type": "stream",
     "text": [
      "3\n",
      "4\n",
      "5\n",
      "6\n",
      "7\n",
      "8\n",
      "9\n"
     ]
    }
   ],
   "source": [
    "# continue구문\n",
    "# 반복문으로 돌아간다(그 다음 코드 실행 안 하고 반복문으로 돌아감).\n",
    "for i in range(1,10,1):\n",
    "    if i < 3:\n",
    "        continue\n",
    "    print(i)"
   ]
  },
  {
   "cell_type": "code",
   "execution_count": null,
   "metadata": {},
   "outputs": [],
   "source": []
  },
  {
   "cell_type": "code",
   "execution_count": 73,
   "metadata": {},
   "outputs": [
    {
     "ename": "SyntaxError",
     "evalue": "invalid decimal literal (3476405837.py, line 3)",
     "output_type": "error",
     "traceback": [
      "\u001b[1;36m  Cell \u001b[1;32mIn[73], line 3\u001b[1;36m\u001b[0m\n\u001b[1;33m    -반복문을 이용하여 1부터 100까지의 합계를 구하는데 합계가 1200이 넘어가는 순간의 i 값과 합계를 출력하시오.\u001b[0m\n\u001b[1;37m               ^\u001b[0m\n\u001b[1;31mSyntaxError\u001b[0m\u001b[1;31m:\u001b[0m invalid decimal literal\n"
     ]
    }
   ],
   "source": [
    "###예제 문제\n",
    "\n",
    "-반복문을 이용하여 1부터 100까지의 합계를 구하는데 합계가 1200이 넘어가는 순간의 i 값과 합계를 출력하시오.\n",
    "    -합계라는 초기값 지정\n",
    "    -1부터 100까지 반복을 하는 반복문 생성\n",
    "    -합계 변수에 반복문의 i 값을 누적합\n",
    "    -누적합이 1200보다 크다면 반복문을 종료\n",
    "    -i의 값과 합계의 값을 출력"
   ]
  },
  {
   "cell_type": "code",
   "execution_count": 75,
   "metadata": {},
   "outputs": [
    {
     "name": "stdout",
     "output_type": "stream",
     "text": [
      "49 1225\n"
     ]
    }
   ],
   "source": [
    "# 지혜 풀이\n",
    "result = 0\n",
    "for i in range(1,101,1):\n",
    "    result += i\n",
    "    if result > 1200:\n",
    "        break\n",
    "print(i, result)\n",
    "    "
   ]
  },
  {
   "cell_type": "code",
   "execution_count": 76,
   "metadata": {},
   "outputs": [
    {
     "name": "stdout",
     "output_type": "stream",
     "text": [
      "5050\n"
     ]
    }
   ],
   "source": [
    "# 선생님 풀이\n",
    "# for문\n",
    "# 합계라는 변수 초기값 설정\n",
    "result = 0\n",
    "\n",
    "for i in range(1,101,1):\n",
    "    # result에 i값을 누적합\n",
    "    result += i\n",
    "    # result = result + i\n",
    "    \n",
    "print(result)  #여기까지 하고"
   ]
  },
  {
   "cell_type": "code",
   "execution_count": 77,
   "metadata": {},
   "outputs": [
    {
     "name": "stdout",
     "output_type": "stream",
     "text": [
      "49 1225\n"
     ]
    }
   ],
   "source": [
    "# 선생님 풀이\n",
    "# for문\n",
    "# 합계라는 변수 초기값 설정\n",
    "result = 0\n",
    "\n",
    "for i in range(1,101,1):\n",
    "    # result에 i값을 누적합\n",
    "    result += i\n",
    "    # result = result + i\n",
    "    # result가 1200보다 크다면?\n",
    "    if result > 1200:\n",
    "        # 반복문을 종료\n",
    "        break\n",
    "    \n",
    "print(i, result)"
   ]
  },
  {
   "cell_type": "code",
   "execution_count": 79,
   "metadata": {},
   "outputs": [
    {
     "name": "stdout",
     "output_type": "stream",
     "text": [
      "49 1225\n"
     ]
    }
   ],
   "source": [
    "# 선생님 풀이\n",
    "# for문\n",
    "# 합계라는 변수 초기값 설정\n",
    "result = 0\n",
    "\n",
    "for i in range(1,101,1):\n",
    "    # result에 i값을 누적합\n",
    "    result += i\n",
    "    # result = result + i\n",
    "    # result가 1200보다 크다면?\n",
    "    if result > 1200:\n",
    "        print(i, result)\n",
    "        # 반복문을 종료\n",
    "        break\n"
   ]
  },
  {
   "cell_type": "code",
   "execution_count": 80,
   "metadata": {},
   "outputs": [
    {
     "name": "stdout",
     "output_type": "stream",
     "text": [
      "1부터 100까지의 합계 중 합계의 값이 1200보다 큰 경우는 49까지의 합이고 합계의 값은 1225이다\n"
     ]
    }
   ],
   "source": [
    "# 선생님 풀이\n",
    "# for문\n",
    "# 합계라는 변수 초기값 설정\n",
    "result = 0\n",
    "\n",
    "for i in range(1,101,1):\n",
    "    # result에 i값을 누적합\n",
    "    result += i\n",
    "    # result = result + i\n",
    "    # result가 1200보다 크다면?\n",
    "    if result > 1200:\n",
    "        print(f\"1부터 100까지의 합계 중 합계의 값이 1200보다 큰 경우는 {i}까지의 합이고 합계의 값은 {result}이다\")\n",
    "        # 반복문을 종료\n",
    "        break\n"
   ]
  },
  {
   "cell_type": "code",
   "execution_count": 89,
   "metadata": {},
   "outputs": [
    {
     "name": "stdout",
     "output_type": "stream",
     "text": [
      "1683\n"
     ]
    }
   ],
   "source": [
    "# 지혜연습\n",
    "result = 0\n",
    "for i in range(1,101,1):\n",
    "    if i%3==0:\n",
    "        result += i\n",
    "print(result)"
   ]
  },
  {
   "cell_type": "code",
   "execution_count": 90,
   "metadata": {},
   "outputs": [
    {
     "name": "stdout",
     "output_type": "stream",
     "text": [
      "안녕하세요? 나는 숫자 4와 9를 좋아합니다.\n"
     ]
    }
   ],
   "source": [
    "i=4\n",
    "j=9\n",
    "print(f\"안녕하세요? 나는 숫자 {i}와 {j}를 좋아합니다.\")"
   ]
  },
  {
   "cell_type": "code",
   "execution_count": 26,
   "metadata": {},
   "outputs": [
    {
     "name": "stdout",
     "output_type": "stream",
     "text": [
      "49 1225\n"
     ]
    }
   ],
   "source": [
    "# while문\n",
    "\n",
    "# 합계 초기 변수 생성\n",
    "result = 0\n",
    "# 반복문의 초기값 생성\n",
    "i = 1\n",
    "\n",
    "# while 조건식\n",
    "# while i <= 100:\n",
    "while i < 101:\n",
    "    # 합계에 i를 누적합\n",
    "    result += i\n",
    "    # result = result + i\n",
    "    \n",
    "    if result > 1200:\n",
    "        break\n",
    "    # 초기값을 증가\n",
    "    i += 1\n",
    "    # i = i + 1\n",
    "    \n",
    "print(i, result)"
   ]
  },
  {
   "cell_type": "markdown",
   "metadata": {},
   "source": [
    "### 자료형 데이터\n",
    "1. 튜플\n",
    "    - 자료형 데이터에서 가장 기본적인 형태의 데이터\n",
    "    - ()로 묶어서 데이터 생성\n",
    "    - 각 원소들을 수정&삭제 불가능\n",
    "2. 리스트\n",
    "    - []로 묶어서 데이터 생성\n",
    "    - 리스트의 내장함수를 이용하여 각 원소들을 수정, 추가, 삭제가 가능\n",
    "3. 딕셔너리\n",
    "    - {}로 묶어서 데이터 생성\n",
    "    - key : value의 형태로 데이터가 생성\n",
    "    - 각 원소들을 수정, 삭제, 추가 가능"
   ]
  },
  {
   "cell_type": "code",
   "execution_count": null,
   "metadata": {},
   "outputs": [],
   "source": []
  }
 ],
 "metadata": {
  "kernelspec": {
   "display_name": "Python 3",
   "language": "python",
   "name": "python3"
  },
  "language_info": {
   "codemirror_mode": {
    "name": "ipython",
    "version": 3
   },
   "file_extension": ".py",
   "mimetype": "text/x-python",
   "name": "python",
   "nbconvert_exporter": "python",
   "pygments_lexer": "ipython3",
   "version": "3.11.5"
  },
  "orig_nbformat": 4
 },
 "nbformat": 4,
 "nbformat_minor": 2
}
