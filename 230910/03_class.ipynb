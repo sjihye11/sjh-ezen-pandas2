{
 "cells": [
  {
   "cell_type": "markdown",
   "metadata": {},
   "source": [
    "### Class\n",
    "1. 변수, 함수 결합(변수와 함수의 결합)\n",
    "2. 붕어빵 틀\n",
    "    - 변수는 반죽, 소\n",
    "    - 함수는 붕어빵을 만드는 과정\n",
    "3. class 선언할 때 일반적으로 class 이름은 앞글자를 대문자로 표시함.\n",
    "4. class 키워드를 이용해서 class 생성\n",
    "5. class에는 특수한 함수가 존재합니다.\n",
    "    - 생성자 함수(초기화 함수)\n",
    "        - class를 생성할 때 한번만 실행되는 함수\n",
    "        - `__init__` 생성자 함수\n",
    "6. class에는 특수한 매개변수가 있어요.\n",
    "    - self 매개변수\n",
    "        - class의 위치(주소)를 뜻함.\n",
    "        - 메모리에 저장된 공간의 이름을 변수, self는 class가 저장되어있는 변수\n"
   ]
  },
  {
   "cell_type": "code",
   "execution_count": 1,
   "metadata": {},
   "outputs": [],
   "source": [
    "# class 선언\n",
    "\n",
    "class Test1: #이 class 안에는 a라는 변수 하나, func_1이라는 함수 하나가 생성되어 있음\n",
    "    a = 1\n",
    "    \n",
    "    def func_1(self, x):\n",
    "        result = x + self.a\n",
    "        return result"
   ]
  },
  {
   "cell_type": "code",
   "execution_count": 2,
   "metadata": {},
   "outputs": [],
   "source": [
    "# class 생성\n",
    "# 메모리 안의 특정한 공간에 class를 저장\n",
    "class_1 = Test1()"
   ]
  },
  {
   "cell_type": "code",
   "execution_count": 4,
   "metadata": {},
   "outputs": [
    {
     "name": "stdout",
     "output_type": "stream",
     "text": [
      "1\n"
     ]
    }
   ],
   "source": [
    "print(class_1.a)"
   ]
  },
  {
   "cell_type": "code",
   "execution_count": 5,
   "metadata": {},
   "outputs": [
    {
     "ename": "NameError",
     "evalue": "name 'x' is not defined",
     "output_type": "error",
     "traceback": [
      "\u001b[1;31m---------------------------------------------------------------------------\u001b[0m",
      "\u001b[1;31mNameError\u001b[0m                                 Traceback (most recent call last)",
      "\u001b[1;32md:\\sjh\\sjh-ezen-pandas2\\230910\\03_class.ipynb 셀 5\u001b[0m line \u001b[0;36m1\n\u001b[1;32m----> <a href='vscode-notebook-cell:/d%3A/sjh/sjh-ezen-pandas2/230910/03_class.ipynb#W5sZmlsZQ%3D%3D?line=0'>1</a>\u001b[0m class_1\u001b[39m.\u001b[39mfunc_1(x) \u001b[39m#원래 func_1은 func_1(self,x)의 모양인데 여기서 self는 위치, 주소를 뜻함. 이 함수는 test1이라는 class_1안에 있는데, self가 class_1을 뜻하기 때문에 x만 쓰면 됨.\u001b[39;00m\n",
      "\u001b[1;31mNameError\u001b[0m: name 'x' is not defined"
     ]
    }
   ],
   "source": [
    "class_1.func_1(x) #원래 func_1은 func_1(self,x)의 모양인데 여기서 self는 위치, 주소를 뜻함. 이 함수는 test1이라는 class_1안에 있는데, self가 class_1을 뜻하기 때문에 x만 쓰면 됨."
   ]
  },
  {
   "cell_type": "code",
   "execution_count": 6,
   "metadata": {},
   "outputs": [
    {
     "data": {
      "text/plain": [
       "'HELLO WORLD'"
      ]
     },
     "execution_count": 6,
     "metadata": {},
     "output_type": "execute_result"
    }
   ],
   "source": [
    "# cf\n",
    "text = 'Hello World'\n",
    "\n",
    "text.upper()  #class의 형태가 이 text.upper()의 모양과 비슷하지 않나요?"
   ]
  },
  {
   "cell_type": "code",
   "execution_count": 7,
   "metadata": {},
   "outputs": [
    {
     "name": "stdout",
     "output_type": "stream",
     "text": [
      "<class 'str'>\n"
     ]
    }
   ],
   "source": [
    "print(type(text)) #type을 볼까요? type은 class라고 나오네요. 이미 우리는 class를 쓰고 있었어요."
   ]
  },
  {
   "cell_type": "code",
   "execution_count": 8,
   "metadata": {},
   "outputs": [],
   "source": [
    "# 생성자 함수가 존재하는 클래스를 선언\n",
    "\n",
    "class Test2:\n",
    "    \n",
    "    # 생성자 함수\n",
    "    def __init__(self, _x, _y):  #self는 주소값이니까, 걍 유령으로 생각하고. 여기서 인자는 _x와 _y 두 개라고 생각하면 됨.\n",
    "        self.x = _x\n",
    "        self.y = _y\n",
    "        \n",
    "    def add(self):\n",
    "        result = self.x + self.y\n",
    "        return result"
   ]
  },
  {
   "cell_type": "code",
   "execution_count": 11,
   "metadata": {},
   "outputs": [],
   "source": [
    "# class 생성\n",
    "# 생성자 함수가 존재함으로 class 생성 시 인자값이 필요함.\n",
    "# class_2 = Test2() 이렇게 하면 _x와 _y를 집어넣지 않았기 때문에 에러가 날거야.\n",
    "class_2 = Test2(5, 3)"
   ]
  },
  {
   "cell_type": "code",
   "execution_count": 12,
   "metadata": {},
   "outputs": [],
   "source": [
    "class_3 = Test2(10, 20)"
   ]
  },
  {
   "cell_type": "code",
   "execution_count": 13,
   "metadata": {},
   "outputs": [
    {
     "name": "stdout",
     "output_type": "stream",
     "text": [
      "5 3\n",
      "10 20\n"
     ]
    }
   ],
   "source": [
    "print(class_2.x, class_2.y)  #class_2에 있는 x라는 항목, class_2에 있는 y라는 항목을 출력해보자.\n",
    "print(class_3.x, class_3.y)  #class_3에 있는 x라는 항목, class_3에 있는 y라는 항목을 출력해보자.\n",
    "# class_2, class_3은 들여쓰기가 안 되어있지요? 그러면 이 class_2와 class3은 전역변수입니다. 그러나 그 안에 있는 x와 y는 각각 class_2와 class_3의 공간 안에 있는 지역변수입니다.\n",
    "# 처음에 self.x = x, self.y = y라고 선언해두었잖아요. 그러면 각각의 class_어쩌고 안에서 x와 y를 만든다는 거지요. self가 \"그 class 안에서\" 무언가를 한다는 거니까요."
   ]
  },
  {
   "cell_type": "code",
   "execution_count": 15,
   "metadata": {},
   "outputs": [
    {
     "name": "stdout",
     "output_type": "stream",
     "text": [
      "8\n",
      "30\n"
     ]
    }
   ],
   "source": [
    "print(class_2.add())\n",
    "print(class_3.add())\n",
    " #add뒤 소괄호에 아무것도 없는 이유는 애초에 add를 선언할 때 소괄호 안에 self만 넣었는데, 그 self가 뜻하는 class_2나 3은 앞에 있으니까. 여기서는 add뒤 소괄호에 아무것도 안 넣습니다."
   ]
  },
  {
   "cell_type": "code",
   "execution_count": 20,
   "metadata": {},
   "outputs": [],
   "source": [
    "# 유저의 정보를 입력하는 class 선언\n",
    "# self.변수 -> 생성되는 class마다 독립적인 변수\n",
    "# class 변수 -> 같은 class를 가지고 class가 생성이 될 때 공유할 수 있는 변수를 뜻함.\n",
    "\n",
    "class User:\n",
    "    # class 변수 생성 -> 해당하는 class에서 공유하는 변수\n",
    "    user_list = [] #변수 앞에 self가 안 붙어있지? 그러면 얘는 class 변수야. 얘는 class 안의 전역변수라고 생각하도록 해. 그리고 이거는 밑에 def~ 한다음에 위에 올라와서 만들어줬음.\n",
    "    \n",
    "    # self변수 생성 -> 생성자 함수에서 만듦\n",
    "    def __init__(self, _name, _age, _phone):\n",
    "        self.name = _name\n",
    "        self.age = _age\n",
    "        self.phone = _phone\n",
    "        # class 변수에 이름값을 추가\n",
    "        self.user_list.append(_name)\n",
    "        \n",
    "    def info(self):\n",
    "        result = f'이름은 {self.name}, 나이는 {self.age}세, 휴대폰 번호는 {self.phone}입니다.'\n",
    "        return result\n",
    "        "
   ]
  },
  {
   "cell_type": "code",
   "execution_count": 17,
   "metadata": {},
   "outputs": [],
   "source": [
    "user1 = User('kim', 20, '01012345678')\n",
    "user2 = User('Park', 30, '01098765432')"
   ]
  },
  {
   "cell_type": "code",
   "execution_count": 19,
   "metadata": {},
   "outputs": [
    {
     "name": "stdout",
     "output_type": "stream",
     "text": [
      "kim 20 01012345678 ['kim', 'Park']\n",
      "Park 30 01098765432 ['kim', 'Park']\n"
     ]
    }
   ],
   "source": [
    "print(user1.name, user1.age, user1.phone, user1.user_list)\n",
    "print(user2.name, user2.age, user2.phone, user2.user_list)"
   ]
  },
  {
   "cell_type": "code",
   "execution_count": 21,
   "metadata": {},
   "outputs": [],
   "source": [
    "# class의 상속\n",
    "# class class명(상속받을 클래스명):\n",
    "\n",
    "class Wallet(User):\n",
    "    # User 클래스에서 기능\n",
    "        # 유저의 정보를 변수에 담아주는 생성자 함수\n",
    "        # 유저의 정보를 되돌려주는 함수\n",
    "        \n",
    "    # 생성자 함수 -> User 클래스에 있는 생성자 함수(세 개였지. 이름, 나이, 폰넘버) 실행, 새 wallet 클래스에 또 다른 self.변수를 추가해볼게.\n",
    "    def __init__(self, _name, _age, _phone, _brand, _balance):\n",
    "        self.brand=_brand\n",
    "        self.balance=_balance\n",
    "        # 부모 클래스를 지정 : super()\n",
    "        super().__init__(_name, _age, _phone)  # 총 6개의 변수가 만들어짐. 네임, 에이지, 폰, 브랜드, 밸런스, 클래스변수였던 유저리스트까지.\n",
    "        \n",
    "    def wallet_info(self):\n",
    "        result = f'지갑의 소유자는 {self.name}이고 지갑의 잔액은 {self.balance}입니다.'\n",
    "        return result\n",
    "    \n",
    "    # 일을 하는 함수\n",
    "    def work(self, _kind):\n",
    "        # 일의 종류에 따라 지갑의 잔액이 변하는 코드를 작성해보자.\n",
    "        if(_kind == 'hunt'):\n",
    "            self.balance += 500\n",
    "        elif(_kind == 'serving'):\n",
    "            self.balance += 700\n",
    "        else:\n",
    "            return '일의 타입이 맞지 않습니다.'   #함수는 return이 되는 순간 종료다. 여기서는 'hunt'와 'serving'이 아닌 경우에 return이 실행되겠지요?\n",
    "        \n",
    "        # 이 주석 아래쪽의 return은 _kind가 'hunt'이거나 'serving'일 때 실행이 되는 return입니다.\n",
    "        return f'{_kind}의 일을 완료하였습니다. 현재 잔액은 {self.balance}입니다'"
   ]
  },
  {
   "cell_type": "code",
   "execution_count": 30,
   "metadata": {},
   "outputs": [],
   "source": [
    "# class의 상속\n",
    "# class class명(상속받을 클래스명):\n",
    "\n",
    "class Wallet(User):\n",
    "    # User 클래스에서 기능\n",
    "        # 유저의 정보를 변수에 담아주는 생성자 함수\n",
    "        # 유저의 정보를 되돌려주는 함수\n",
    "        \n",
    "    # 생성자 함수 -> User 클래스에 있는 생성자 함수(세 개였지. 이름, 나이, 폰넘버) 실행, 새 wallet 클래스에 또 다른 self.변수를 추가해볼게.\n",
    "    def __init__(self, _name, _age, _phone, _brand, _balance):\n",
    "        self.brand=_brand\n",
    "        self.balance=_balance\n",
    "        # 부모 클래스를 지정 : super()\n",
    "        super().__init__(_name, _age, _phone)  # 총 6개의 변수가 만들어짐. 네임, 에이지, 폰, 브랜드, 밸런스, 클래스변수였던 유저리스트까지.\n",
    "        \n",
    "    def wallet_info(self):\n",
    "        result = f'지갑의 소유자는 {self.name}이고 지갑의 잔액은 {self.balance}입니다.'\n",
    "        return result\n",
    "    \n",
    "    # 일을 하는 함수\n",
    "    def work(self, _kind):\n",
    "        # 일의 종류에 따라 지갑의 잔액이 변하는 코드를 작성해보자.\n",
    "        if(_kind == 'hunt'):\n",
    "            self.balance += 500\n",
    "            result = f'{_kind}의 일을 완료하였습니다. 현재 잔액은 {self.balance}입니다'\n",
    "        elif(_kind == 'serving'):\n",
    "            self.balance += 700\n",
    "            result = f'{_kind}의 일을 완료하였습니다. 현재 잔액은 {self.balance}입니다'\n",
    "        else:\n",
    "            result = '일의 타입이 맞지 않습니다.'\n",
    "        \n",
    "        return result"
   ]
  },
  {
   "cell_type": "code",
   "execution_count": 31,
   "metadata": {},
   "outputs": [],
   "source": [
    "# Wallet 클래스 생성\n",
    "wallet1 = Wallet('kim', 20, '01012345678', 'gucci', 0)"
   ]
  },
  {
   "cell_type": "code",
   "execution_count": 32,
   "metadata": {},
   "outputs": [
    {
     "data": {
      "text/plain": [
       "'이름은 kim, 나이는 20세, 휴대폰 번호는 01012345678입니다.'"
      ]
     },
     "execution_count": 32,
     "metadata": {},
     "output_type": "execute_result"
    }
   ],
   "source": [
    "wallet1.info()"
   ]
  },
  {
   "cell_type": "code",
   "execution_count": 33,
   "metadata": {},
   "outputs": [
    {
     "data": {
      "text/plain": [
       "'지갑의 소유자는 kim이고 지갑의 잔액은 0입니다.'"
      ]
     },
     "execution_count": 33,
     "metadata": {},
     "output_type": "execute_result"
    }
   ],
   "source": [
    "wallet1.wallet_info()"
   ]
  },
  {
   "cell_type": "code",
   "execution_count": 34,
   "metadata": {},
   "outputs": [
    {
     "data": {
      "text/plain": [
       "'hunt의 일을 완료하였습니다. 현재 잔액은 500입니다'"
      ]
     },
     "execution_count": 34,
     "metadata": {},
     "output_type": "execute_result"
    }
   ],
   "source": [
    "wallet1.work('hunt')"
   ]
  },
  {
   "cell_type": "code",
   "execution_count": 36,
   "metadata": {},
   "outputs": [
    {
     "data": {
      "text/plain": [
       "'serving의 일을 완료하였습니다. 현재 잔액은 1900입니다'"
      ]
     },
     "execution_count": 36,
     "metadata": {},
     "output_type": "execute_result"
    }
   ],
   "source": [
    "wallet1.work('serving')"
   ]
  },
  {
   "cell_type": "code",
   "execution_count": 38,
   "metadata": {},
   "outputs": [
    {
     "data": {
      "text/plain": [
       "'지갑의 소유자는 kim이고 지갑의 잔액은 1900입니다.'"
      ]
     },
     "execution_count": 38,
     "metadata": {},
     "output_type": "execute_result"
    }
   ],
   "source": [
    "wallet1.wallet_info()"
   ]
  },
  {
   "cell_type": "code",
   "execution_count": 39,
   "metadata": {},
   "outputs": [],
   "source": [
    "wallet2 = Wallet('park', 30, '01098765432', 'chanel', 0)"
   ]
  },
  {
   "cell_type": "code",
   "execution_count": 40,
   "metadata": {},
   "outputs": [
    {
     "data": {
      "text/plain": [
       "'지갑의 소유자는 park이고 지갑의 잔액은 0입니다.'"
      ]
     },
     "execution_count": 40,
     "metadata": {},
     "output_type": "execute_result"
    }
   ],
   "source": [
    "wallet2.wallet_info()"
   ]
  },
  {
   "cell_type": "code",
   "execution_count": 41,
   "metadata": {},
   "outputs": [
    {
     "data": {
      "text/plain": [
       "'serving의 일을 완료하였습니다. 현재 잔액은 700입니다'"
      ]
     },
     "execution_count": 41,
     "metadata": {},
     "output_type": "execute_result"
    }
   ],
   "source": [
    "wallet2.work('serving')"
   ]
  },
  {
   "cell_type": "code",
   "execution_count": 42,
   "metadata": {},
   "outputs": [
    {
     "data": {
      "text/plain": [
       "'hunt의 일을 완료하였습니다. 현재 잔액은 1200입니다'"
      ]
     },
     "execution_count": 42,
     "metadata": {},
     "output_type": "execute_result"
    }
   ],
   "source": [
    "wallet2.work('hunt')"
   ]
  },
  {
   "cell_type": "code",
   "execution_count": null,
   "metadata": {},
   "outputs": [],
   "source": []
  }
 ],
 "metadata": {
  "kernelspec": {
   "display_name": "Python 3",
   "language": "python",
   "name": "python3"
  },
  "language_info": {
   "codemirror_mode": {
    "name": "ipython",
    "version": 3
   },
   "file_extension": ".py",
   "mimetype": "text/x-python",
   "name": "python",
   "nbconvert_exporter": "python",
   "pygments_lexer": "ipython3",
   "version": "3.11.5"
  },
  "orig_nbformat": 4
 },
 "nbformat": 4,
 "nbformat_minor": 2
}
