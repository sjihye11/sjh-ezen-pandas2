{
 "cells": [
  {
   "cell_type": "code",
   "execution_count": 2,
   "metadata": {},
   "outputs": [
    {
     "name": "stdout",
     "output_type": "stream",
     "text": [
      "True\n"
     ]
    }
   ],
   "source": [
    "# 파이썬에서 제공하는 내장 함수\n",
    "\n",
    "# 문자열 함수\n",
    "\n",
    "# 문자열을 대문자, 소문자의 형태로 변환\n",
    "\n",
    "x = 'A'\n",
    "y = 'a'\n",
    "\n",
    "# y라는 변수의 문자열을 대문자로 변환\n",
    "#upper()\n",
    "y = y.upper()\n",
    "\n",
    "print(x == y)"
   ]
  },
  {
   "cell_type": "code",
   "execution_count": 5,
   "metadata": {},
   "outputs": [
    {
     "name": "stdout",
     "output_type": "stream",
     "text": [
      "a\n"
     ]
    }
   ],
   "source": [
    "# x를 소문자 변환\n",
    "# lower()\n",
    "x = x.lower()\n",
    "print(x)"
   ]
  },
  {
   "cell_type": "code",
   "execution_count": 6,
   "metadata": {},
   "outputs": [
    {
     "data": {
      "text/plain": [
       "'Hello World'"
      ]
     },
     "execution_count": 6,
     "metadata": {},
     "output_type": "execute_result"
    }
   ],
   "source": [
    "a = 'Hello world'\n",
    "\n",
    "# 단어의 첫글자만 대문자로 변환하는 함수\n",
    "# title()\n",
    "a.title()"
   ]
  },
  {
   "cell_type": "code",
   "execution_count": 7,
   "metadata": {},
   "outputs": [
    {
     "data": {
      "text/plain": [
       "False"
      ]
     },
     "execution_count": 7,
     "metadata": {},
     "output_type": "execute_result"
    }
   ],
   "source": [
    "# 문자열 좌우 공백을 제거하는 함수\n",
    "text = '    Hello World   '\n",
    "text2 = 'Hello World'\n",
    "\n",
    "text == text2"
   ]
  },
  {
   "cell_type": "code",
   "execution_count": 8,
   "metadata": {},
   "outputs": [
    {
     "data": {
      "text/plain": [
       "'Hello World   '"
      ]
     },
     "execution_count": 8,
     "metadata": {},
     "output_type": "execute_result"
    }
   ],
   "source": [
    "# strip() : 좌우의 공백을 제거\n",
    "# lstrip() : 왼쪽의 공백을 제거\n",
    "# rstrip() : 오른쪽의 공백을 제거\n",
    "# strip({text}) : 좌우의 'text'를 제거\n",
    "text.lstrip()     #print를 쓰면 좌우 공백이 보이지 않으므로 print를 안 쓰고 실습하고 있어요."
   ]
  },
  {
   "cell_type": "code",
   "execution_count": 10,
   "metadata": {},
   "outputs": [
    {
     "data": {
      "text/plain": [
       "'    Hello World'"
      ]
     },
     "execution_count": 10,
     "metadata": {},
     "output_type": "execute_result"
    }
   ],
   "source": [
    "text.rstrip()"
   ]
  },
  {
   "cell_type": "code",
   "execution_count": 11,
   "metadata": {},
   "outputs": [
    {
     "data": {
      "text/plain": [
       "'Hello World'"
      ]
     },
     "execution_count": 11,
     "metadata": {},
     "output_type": "execute_result"
    }
   ],
   "source": [
    "text.strip()"
   ]
  },
  {
   "cell_type": "code",
   "execution_count": 12,
   "metadata": {},
   "outputs": [
    {
     "data": {
      "text/plain": [
       "'ello World'"
      ]
     },
     "execution_count": 12,
     "metadata": {},
     "output_type": "execute_result"
    }
   ],
   "source": [
    "text.strip().strip('H')\n",
    "# 좌우 공백을 먼저 삭제하고, 그 다음 좌우에 있는 'H'를 삭제한 거."
   ]
  },
  {
   "cell_type": "code",
   "execution_count": 13,
   "metadata": {},
   "outputs": [
    {
     "data": {
      "text/plain": [
       "'Hi World'"
      ]
     },
     "execution_count": 13,
     "metadata": {},
     "output_type": "execute_result"
    }
   ],
   "source": [
    "# 선택한 문자열을 다른 문자열로 치환해주는 함수\n",
    "# replace({선택한 문자열}, {변경할 문자열}) #여기서 중괄호는 user가 입력한 특정한 값을 설명할 때 이렇게 씁니다. 여기서는 딕셔너리를 뜻하는 게 아님.\n",
    "text2.replace('Hello', 'Hi')"
   ]
  },
  {
   "cell_type": "code",
   "execution_count": 15,
   "metadata": {},
   "outputs": [
    {
     "data": {
      "text/plain": [
       "'HelloWorld'"
      ]
     },
     "execution_count": 15,
     "metadata": {},
     "output_type": "execute_result"
    }
   ],
   "source": [
    "# replace를 이용하여 공백을 제거\n",
    "# text의 모든 공백을 삭제해볼게요. ' '는 공백이고 ''는 데이터가 없는 것이니까. 공백을 데이터가 없는 것으로 대체하는 것.\n",
    "text.replace(' ','')"
   ]
  },
  {
   "cell_type": "code",
   "execution_count": 17,
   "metadata": {},
   "outputs": [
    {
     "data": {
      "text/plain": [
       "['1', '2', '3', '4', '5']"
      ]
     },
     "execution_count": 17,
     "metadata": {},
     "output_type": "execute_result"
    }
   ],
   "source": [
    "# 특정한 문자열을 기준으로 데이터를 나눠주는 함수  #결과는 리스트 즉, 배열 데이터로 변경됨.\n",
    "# split({특정한 문자열})\n",
    "# split() : 공백을 기준으로 데이터를 나눠준다.\n",
    "a = '1,2,3,4,5'\n",
    "a.split(',')"
   ]
  },
  {
   "cell_type": "code",
   "execution_count": 18,
   "metadata": {},
   "outputs": [
    {
     "data": {
      "text/plain": [
       "['a', 'b', 'c', 'd', 'e']"
      ]
     },
     "execution_count": 18,
     "metadata": {},
     "output_type": "execute_result"
    }
   ],
   "source": [
    "b = 'a b c d e'\n",
    "\n",
    "b.split()"
   ]
  },
  {
   "cell_type": "markdown",
   "metadata": {},
   "source": [
    "### 함수\n",
    "- 어떠한 입력값을 가지고 작업을 실행하여 결과물을 되돌려준다.\n",
    "- def 키워드를 이용하여 함수를 선언\n",
    "    - 함수를 선언하는 과정에서 필요한 입력값은 매개변수로 생성\n",
    "    - 함수를 호출하는 과정에서 매개변수에 들어갈 입력값은 인자"
   ]
  },
  {
   "cell_type": "code",
   "execution_count": 19,
   "metadata": {},
   "outputs": [],
   "source": [
    "# 매개변수가 존재하지 않는 함수 선언\n",
    "# 함수는 같은 행동을 하고 같은 값을 되돌려준다.\n",
    "def func_1():\n",
    "    result = 'Hello World'\n",
    "    # 함수에서 특정한 데이터를 되돌려준다.\n",
    "    return result"
   ]
  },
  {
   "cell_type": "code",
   "execution_count": 20,
   "metadata": {},
   "outputs": [
    {
     "name": "stdout",
     "output_type": "stream",
     "text": [
      "Hello World\n",
      "Hello World\n",
      "Hello World\n"
     ]
    }
   ],
   "source": [
    "# 함수명()은 해당하는 함수를 호출하는 과정. 방금 만들어낸 func_1은 매개변수가 없는 함수이기 때문에 단순한 결과가 나올것임. \n",
    "# 만약 매개변수가 들어가있는 함수를 만든다면 결과값을 더 다양하게 만들어낼 수 있음.\n",
    "print(func_1())\n",
    "print(func_1())\n",
    "print(func_1())"
   ]
  },
  {
   "cell_type": "code",
   "execution_count": 22,
   "metadata": {},
   "outputs": [],
   "source": [
    "# 매개변수가 존재하는 함수를 선언\n",
    "def func_2(x):\n",
    "    return x"
   ]
  },
  {
   "cell_type": "code",
   "execution_count": 24,
   "metadata": {},
   "outputs": [
    {
     "name": "stdout",
     "output_type": "stream",
     "text": [
      "1\n",
      "a\n",
      "True\n"
     ]
    },
    {
     "ename": "TypeError",
     "evalue": "func_2() missing 1 required positional argument: 'x'",
     "output_type": "error",
     "traceback": [
      "\u001b[1;31m---------------------------------------------------------------------------\u001b[0m",
      "\u001b[1;31mTypeError\u001b[0m                                 Traceback (most recent call last)",
      "\u001b[1;32md:\\sjh\\sjh-ezen-pandas2\\230910\\01_function.ipynb 셀 17\u001b[0m line \u001b[0;36m4\n\u001b[0;32m      <a href='vscode-notebook-cell:/d%3A/sjh/sjh-ezen-pandas2/230910/01_function.ipynb#X25sZmlsZQ%3D%3D?line=1'>2</a>\u001b[0m \u001b[39mprint\u001b[39m(func_2(\u001b[39m'\u001b[39m\u001b[39ma\u001b[39m\u001b[39m'\u001b[39m))\n\u001b[0;32m      <a href='vscode-notebook-cell:/d%3A/sjh/sjh-ezen-pandas2/230910/01_function.ipynb#X25sZmlsZQ%3D%3D?line=2'>3</a>\u001b[0m \u001b[39mprint\u001b[39m(func_2(\u001b[39mTrue\u001b[39;00m))\n\u001b[1;32m----> <a href='vscode-notebook-cell:/d%3A/sjh/sjh-ezen-pandas2/230910/01_function.ipynb#X25sZmlsZQ%3D%3D?line=3'>4</a>\u001b[0m \u001b[39mprint\u001b[39m(func_2())  \u001b[39m#func_2에 매개변수를 안 넣고 해보면....?? 아마 에러가 날걸? 왜냐하면 매개변수x가 필요한데, 그걸 빼먹었으니까.\u001b[39;00m\n",
      "\u001b[1;31mTypeError\u001b[0m: func_2() missing 1 required positional argument: 'x'"
     ]
    }
   ],
   "source": [
    "print(func_2(1))\n",
    "print(func_2('a'))\n",
    "print(func_2(True))\n",
    "print(func_2())  #func_2에 매개변수를 안 넣고 해보면....?? 아마 에러가 날걸? 왜냐하면 매개변수x가 필요한데, 그걸 빼먹었으니까."
   ]
  },
  {
   "cell_type": "code",
   "execution_count": 37,
   "metadata": {},
   "outputs": [
    {
     "name": "stdout",
     "output_type": "stream",
     "text": [
      "1\n",
      "a\n",
      "True\n",
      "func\n"
     ]
    }
   ],
   "source": [
    "# 매개변수가 존재하는 함수를 선언\n",
    "# 매개변수에 기본값을 설정할 수 있음. 그러면 매개변수를 지정하지 않아도 에러 안 나게.\n",
    "def func_2(x = 'func'):  # 'x라고 하는 매개변수에 값이 들어간다'는 뜻임. 아무것도 안 넣었을 때 'func'라고 되는 게 확인될건데, 아무것도 안 넣으면 기본값인 'func'를 나오게 한다는 뜻임.\n",
    "    return x\n",
    "\n",
    "print(func_2(1))\n",
    "print(func_2('a'))\n",
    "print(func_2(True))\n",
    "print(func_2())"
   ]
  },
  {
   "cell_type": "code",
   "execution_count": 26,
   "metadata": {},
   "outputs": [],
   "source": [
    "def func_3(x, y):\n",
    "    result = x + y\n",
    "    return result"
   ]
  },
  {
   "cell_type": "code",
   "execution_count": 29,
   "metadata": {},
   "outputs": [
    {
     "name": "stdout",
     "output_type": "stream",
     "text": [
      "8\n",
      "1035\n"
     ]
    },
    {
     "name": "stderr",
     "output_type": "stream",
     "text": [
      "<>:3: SyntaxWarning: 'int' object is not callable; perhaps you missed a comma?\n",
      "<>:3: SyntaxWarning: 'int' object is not callable; perhaps you missed a comma?\n",
      "C:\\Users\\EZEN\\AppData\\Local\\Temp\\ipykernel_9896\\1160010407.py:3: SyntaxWarning: 'int' object is not callable; perhaps you missed a comma?\n",
      "  print(func_3(3(10))) # 매개변수를 하나만 넣어주면? 에러가 날 걸.\n"
     ]
    },
    {
     "ename": "TypeError",
     "evalue": "'int' object is not callable",
     "output_type": "error",
     "traceback": [
      "\u001b[1;31m---------------------------------------------------------------------------\u001b[0m",
      "\u001b[1;31mTypeError\u001b[0m                                 Traceback (most recent call last)",
      "\u001b[1;32md:\\sjh\\sjh-ezen-pandas2\\230910\\01_function.ipynb 셀 20\u001b[0m line \u001b[0;36m3\n\u001b[0;32m      <a href='vscode-notebook-cell:/d%3A/sjh/sjh-ezen-pandas2/230910/01_function.ipynb#X31sZmlsZQ%3D%3D?line=0'>1</a>\u001b[0m \u001b[39mprint\u001b[39m(func_3(\u001b[39m5\u001b[39m, \u001b[39m3\u001b[39m))\n\u001b[0;32m      <a href='vscode-notebook-cell:/d%3A/sjh/sjh-ezen-pandas2/230910/01_function.ipynb#X31sZmlsZQ%3D%3D?line=1'>2</a>\u001b[0m \u001b[39mprint\u001b[39m(func_3(\u001b[39m123\u001b[39m, \u001b[39m912\u001b[39m))\n\u001b[1;32m----> <a href='vscode-notebook-cell:/d%3A/sjh/sjh-ezen-pandas2/230910/01_function.ipynb#X31sZmlsZQ%3D%3D?line=2'>3</a>\u001b[0m \u001b[39mprint\u001b[39m(func_3(\u001b[39m3\u001b[39;49m(\u001b[39m10\u001b[39;49m))) \u001b[39m# 매개변수를 하나만 넣어주면? 에러가 날 걸.\u001b[39;00m\n\u001b[0;32m      <a href='vscode-notebook-cell:/d%3A/sjh/sjh-ezen-pandas2/230910/01_function.ipynb#X31sZmlsZQ%3D%3D?line=3'>4</a>\u001b[0m \u001b[39mprint\u001b[39m(func_3(\u001b[39m10\u001b[39m, \u001b[39m20\u001b[39m, \u001b[39m30\u001b[39m)) \u001b[39m#func_3는 매개변수가 2개 있어야 하는데, 3개 넣었으니까 에러가 날 걸?\u001b[39;00m\n",
      "\u001b[1;31mTypeError\u001b[0m: 'int' object is not callable"
     ]
    }
   ],
   "source": [
    "print(func_3(5, 3))\n",
    "print(func_3(123, 912))\n",
    "print(func_3(3(10))) # 매개변수를 하나만 넣어주면? 에러가 날 걸.\n",
    "print(func_3(10, 20, 30)) #func_3는 매개변수가 2개 있어야 하는데, 3개 넣었으니까 에러가 날 걸?"
   ]
  },
  {
   "cell_type": "code",
   "execution_count": 30,
   "metadata": {},
   "outputs": [],
   "source": [
    "def func_4(a, b):\n",
    "    result = a ** b\n",
    "    return result"
   ]
  },
  {
   "cell_type": "code",
   "execution_count": 31,
   "metadata": {},
   "outputs": [
    {
     "name": "stdout",
     "output_type": "stream",
     "text": [
      "25\n"
     ]
    }
   ],
   "source": [
    "print(func_4(5, 2)) # a에는 5를 대입하고, b에는 2를 대입 -> 결과 5^2 = 25"
   ]
  },
  {
   "cell_type": "code",
   "execution_count": 32,
   "metadata": {},
   "outputs": [
    {
     "name": "stdout",
     "output_type": "stream",
     "text": [
      "32\n"
     ]
    }
   ],
   "source": [
    "print(func_4(b= 5, a =2))  #a에 2를 대입, b에 5를 대입 -> 결과 2^5 = 32    #매개변수 순서를 정확히 모르는데, 매개변수를 알고 있으면 특정 매개변수를 설정만 해주면 됨."
   ]
  },
  {
   "cell_type": "code",
   "execution_count": 43,
   "metadata": {},
   "outputs": [],
   "source": [
    "# 함수를 생성\n",
    "# 매개변수 2개(x, y)\n",
    "# x부터 y까지의 합계를 되돌려주는 함수를 생성\n",
    "\n",
    "def func_5(x, y):\n",
    "    # 합계라는 초기값을 생성\n",
    "    result = 0\n",
    "    #  반복문을 이용하여 누적합\n",
    "    for i in range(x, y+1, 1):\n",
    "        # result의 누적합\n",
    "        result += i\n",
    "        #result = result + i\n",
    "    \n",
    "    return result   #라인 신경쓰기. return은 반환한다는 뜻도 있지만, 함수를 종료한다는 뜻도 있음. return이 반복문 안으로 들어가면 첫번째 반복을 하자마자 함수가 종료되어버릴 수 있음."
   ]
  },
  {
   "cell_type": "code",
   "execution_count": 45,
   "metadata": {},
   "outputs": [
    {
     "name": "stdout",
     "output_type": "stream",
     "text": [
      "55\n",
      "5050\n",
      "0\n"
     ]
    }
   ],
   "source": [
    "print(func_5(1, 10))\n",
    "print(func_5(1, 100))\n",
    "print(func_5(100, 1)) #이렇게 하면 계산이 안 돼서 0하고 끝남. 나는 앞 숫자가 더 작은 것을 알고 있지만, 모르는 남이 쓰면 이렇게 됨."
   ]
  },
  {
   "cell_type": "code",
   "execution_count": 40,
   "metadata": {},
   "outputs": [],
   "source": [
    "# 함수를 생성\n",
    "# 매개변수 2개(x, y)\n",
    "# x부터 y까지의 합계를 되돌려주는 함수를 생성\n",
    "\n",
    "def func_5(x, y):\n",
    "    # 합계라는 초기값을 생성\n",
    "    result = 0\n",
    "    #  반복문을 이용하여 누적합\n",
    "    for i in range(x, y+1, 1):\n",
    "        # result의 누적합\n",
    "        result += i\n",
    "        #result = result + i\n",
    "    \n",
    "        # return result   #라인 신경쓰기. return은 반환한다는 뜻도 있지만, 함수를 종료한다는 뜻도 있음. return이 반복문 안으로 들어가면 첫번째 반복을 하자마자 함수가 종료되어버릴 수 있음.\n",
    "    \n",
    "# 이렇게 끝나버리면\n",
    "# print(func_5(1, 10))\n",
    "# print(func_5(1, 100))\n",
    "# 의 값이 1이 되어버리고 끝나버림."
   ]
  },
  {
   "cell_type": "code",
   "execution_count": 53,
   "metadata": {},
   "outputs": [],
   "source": [
    "# 매개변수 x, y의 값을 포함한 사이값의 합계 함수 생성\n",
    "##지혜 풀이\n",
    "\n",
    "# 함수 생성 func_6 -> 매개변수 2개 (x, y)\n",
    "def func_6(x, y):    #언제나 처음 시작할 때는 들여쓰기 없이 시작.\n",
    "# 합계라는 변수를 생성하여 0을 대입\n",
    "    result = 0\n",
    "#  x가 y보다 작다면\n",
    "    if x < y :\n",
    "    # x부터 y+1까지 반복하는 반복문을 생성\n",
    "        for i in range(x, y+1, 1):\n",
    "        # result에 i의 값들을 누적합\n",
    "            result += i\n",
    "# x가 y보다 크거나 같다면\n",
    "    elif x >= y:\n",
    "    # y부터 x+1까지 반복하는 반복문을 생성\n",
    "        for i in range(y, x+1, 1):\n",
    "        # result에 i의 값들을 누적합\n",
    "            result += i\n",
    "# result를 되돌려준다.\n",
    "    return result"
   ]
  },
  {
   "cell_type": "code",
   "execution_count": 54,
   "metadata": {},
   "outputs": [
    {
     "data": {
      "text/plain": [
       "5005"
      ]
     },
     "execution_count": 54,
     "metadata": {},
     "output_type": "execute_result"
    }
   ],
   "source": [
    "func_6(100, 10)\n",
    "func_6(10, 100)"
   ]
  },
  {
   "cell_type": "code",
   "execution_count": 55,
   "metadata": {},
   "outputs": [],
   "source": [
    "# 매개변수 x, y의 값을 포함한 사이값의 합계 함수 생성\n",
    "##선생님 풀이\n",
    "\n",
    "# 함수 생성 func_6 -> 매개변수 2개 (x, y)\n",
    "def func_6(x, y):    #언제나 처음 시작할 때는 들여쓰기 없이 시작.\n",
    "# 합계라는 변수를 생성하여 0을 대입\n",
    "    result = 0\n",
    "#  x가 y보다 작다면\n",
    "    if (x < y) :  ##조건문에는 웬만하면 괄호를 쓰세요. 조건문이 많아지면 괄호를 쓰는 게 좋은 습관이라서, 그냥 하나일 때부터 괄호 쓰세용.\n",
    "    # x부터 y+1까지 반복하는 반복문을 생성\n",
    "        for i in range(x, y+1, 1):\n",
    "        # result에 i의 값들을 누적합\n",
    "            result += i\n",
    "# x가 y보다 크거나 같다면\n",
    "    else:\n",
    "    # y부터 x+1까지 반복하는 반복문을 생성\n",
    "        for i in range(y, x+1, 1):\n",
    "        # result에 i의 값들을 누적합\n",
    "            result += i\n",
    "# result를 되돌려준다.\n",
    "    return result"
   ]
  },
  {
   "cell_type": "code",
   "execution_count": 56,
   "metadata": {},
   "outputs": [
    {
     "name": "stdout",
     "output_type": "stream",
     "text": [
      "55\n",
      "55\n"
     ]
    }
   ],
   "source": [
    "print(func_6(1, 10))\n",
    "print(func_6(10, 1))"
   ]
  },
  {
   "cell_type": "code",
   "execution_count": 57,
   "metadata": {},
   "outputs": [],
   "source": [
    "# 내장함수를 이용해서 얘를 더 줄여보겠습니다. func_6의 코딩이 어디까지 줄어드는지 눈으로 확인해보쇼!!\n",
    "def func_7(x, y):\n",
    "    result = 0\n",
    "    \n",
    "    # 두 개의 값 중 작은 값을 되돌려주는 함수 : min()\n",
    "    # 두 개의 값 중 큰 값을 되돌려주는 함수 : max()\n",
    "    for i in range(min(x, y), max(x, y)+1, 1):\n",
    "        result += i\n",
    "    return result"
   ]
  },
  {
   "cell_type": "code",
   "execution_count": 58,
   "metadata": {},
   "outputs": [
    {
     "name": "stdout",
     "output_type": "stream",
     "text": [
      "55\n",
      "55\n"
     ]
    }
   ],
   "source": [
    "print(func_7(1, 10))\n",
    "print(func_7(10, 1))"
   ]
  },
  {
   "cell_type": "code",
   "execution_count": 59,
   "metadata": {},
   "outputs": [],
   "source": [
    "# 인자의 개수가 가변인 경우\n",
    "def func_8(*args):  #여기 변수의 이름은 아무렇게나 써도 상관 없음. 앞에 *만 붙이면 됨.\n",
    "    return args"
   ]
  },
  {
   "cell_type": "code",
   "execution_count": 61,
   "metadata": {},
   "outputs": [
    {
     "name": "stdout",
     "output_type": "stream",
     "text": [
      "(1, 2, 3)\n",
      "('a', 'b')\n",
      "()\n"
     ]
    }
   ],
   "source": [
    "print(func_8(1, 2, 3))\n",
    "print(func_8('a', 'b'))\n",
    "print(func_8())\n",
    "# 튜플의 형태로 만들어줌"
   ]
  },
  {
   "cell_type": "code",
   "execution_count": 65,
   "metadata": {},
   "outputs": [],
   "source": [
    "# 인자 값들의 합계를 구하는 함수 생성\n",
    "# 인자의 개수는 가변이고 인자 값들을 모두 더해주는 함수\n",
    "\n",
    "def func_9(*args):\n",
    "    # args의 데이터의 타입은 튜플\n",
    "    # 합계라는 변수 생성\n",
    "    result = 0\n",
    "    for i in args: #args는 튜플, 튜플은 자료형 데이터인데 이거는 range처럼 바로 사용 가능\n",
    "        result += i\n",
    "        \n",
    "    return result"
   ]
  },
  {
   "cell_type": "code",
   "execution_count": 66,
   "metadata": {},
   "outputs": [
    {
     "name": "stdout",
     "output_type": "stream",
     "text": [
      "15\n",
      "45\n"
     ]
    }
   ],
   "source": [
    "print(func_9(3, 5, 7))\n",
    "print(func_9(1,2,3,4,5,6,7,8,9))"
   ]
  },
  {
   "cell_type": "code",
   "execution_count": 68,
   "metadata": {},
   "outputs": [
    {
     "name": "stdout",
     "output_type": "stream",
     "text": [
      "('h', 'e', 'l', 'l', 'o')\n"
     ]
    }
   ],
   "source": [
    "a = ('h', 'e', 'l', 'l', 'o')\n",
    "print(a)"
   ]
  },
  {
   "cell_type": "code",
   "execution_count": 69,
   "metadata": {},
   "outputs": [
    {
     "name": "stdout",
     "output_type": "stream",
     "text": [
      "e\n"
     ]
    }
   ],
   "source": [
    "# 튜플에서 2번째 데이터만 추출하려면?\n",
    "print(a[1])"
   ]
  },
  {
   "cell_type": "code",
   "execution_count": 70,
   "metadata": {},
   "outputs": [],
   "source": [
    "# while문으로 똑같이 만들어보면?\n",
    "\n",
    "def func_10(*args):\n",
    "    # 합계의 초기값 지정\n",
    "    result=0\n",
    "    \n",
    "    # while 조건식의 초기값 지정\n",
    "    i=0\n",
    "    \n",
    "    # while문 생성\n",
    "    while i < len(args):\n",
    "        result += arg[i]\n",
    "        # 증감식 생성\n",
    "        i += 1\n",
    "    return result"
   ]
  },
  {
   "cell_type": "code",
   "execution_count": 71,
   "metadata": {},
   "outputs": [
    {
     "name": "stdout",
     "output_type": "stream",
     "text": [
      "15\n",
      "45\n"
     ]
    }
   ],
   "source": [
    "print(func_9(3,5,7))\n",
    "print(func_9(1,2,3,4,5,6,7,8,9))"
   ]
  },
  {
   "cell_type": "code",
   "execution_count": 75,
   "metadata": {},
   "outputs": [
    {
     "name": "stdout",
     "output_type": "stream",
     "text": [
      "10\n"
     ]
    },
    {
     "ename": "NameError",
     "evalue": "name 'result' is not defined",
     "output_type": "error",
     "traceback": [
      "\u001b[1;31m---------------------------------------------------------------------------\u001b[0m",
      "\u001b[1;31mNameError\u001b[0m                                 Traceback (most recent call last)",
      "\u001b[1;32md:\\sjh\\sjh-ezen-pandas2\\230910\\01_function.ipynb 셀 41\u001b[0m line \u001b[0;36m1\n\u001b[0;32m     <a href='vscode-notebook-cell:/d%3A/sjh/sjh-ezen-pandas2/230910/01_function.ipynb#X62sZmlsZQ%3D%3D?line=14'>15</a>\u001b[0m \u001b[39m# 함수 호출\u001b[39;00m\n\u001b[0;32m     <a href='vscode-notebook-cell:/d%3A/sjh/sjh-ezen-pandas2/230910/01_function.ipynb#X62sZmlsZQ%3D%3D?line=15'>16</a>\u001b[0m \u001b[39mprint\u001b[39m(func_11([\u001b[39m1\u001b[39m,\u001b[39m2\u001b[39m,\u001b[39m3\u001b[39m,\u001b[39m4\u001b[39m])) \u001b[39m# 리스트 한 개 넣은 거임. 리스트 안에 여러 개 들어가도 상관 없음. 어쨌든 리스트 '하나!'임.\u001b[39;00m\n\u001b[1;32m---> <a href='vscode-notebook-cell:/d%3A/sjh/sjh-ezen-pandas2/230910/01_function.ipynb#X62sZmlsZQ%3D%3D?line=17'>18</a>\u001b[0m \u001b[39mprint\u001b[39m(result) \u001b[39m# result는 함수 안에서는 사용 가능한데, 밖에서는 사용 불가함. 함수 안에서 정의해준거니까.\u001b[39;00m\n\u001b[0;32m     <a href='vscode-notebook-cell:/d%3A/sjh/sjh-ezen-pandas2/230910/01_function.ipynb#X62sZmlsZQ%3D%3D?line=18'>19</a>\u001b[0m \u001b[39mprint\u001b[39m(input_x) \u001b[39m# input_x는 함수 안에서는 사용 가능한데, 밖에서는 사용 불가함. 얘도 마찬가지\u001b[39;00m\n",
      "\u001b[1;31mNameError\u001b[0m: name 'result' is not defined"
     ]
    }
   ],
   "source": [
    "# 근데 선생님은 방금 *단 형식 잘 안쓰심.\n",
    "# 매개변수에 자료형 데이터를 입력\n",
    "\n",
    "# 합계를 구하는 함수\n",
    "\n",
    "def func_11(input_x):  # input_x앞에 *표시 안 했음. 그러면 input_x는 하나임.\n",
    "    result = 0\n",
    "    \n",
    "    for i in input_x:\n",
    "        result += i\n",
    "    \n",
    "    return result\n",
    "    \n",
    "    \n",
    "# 함수 호출\n",
    "print(func_11([1,2,3,4])) # 리스트 한 개 넣은 거임. 리스트 안에 여러 개 들어가도 상관 없음. 어쨌든 리스트 '하나!'임.\n",
    "\n",
    "print(result) # result는 함수 안에서는 사용 가능한데, 밖에서는 사용 불가함. 함수 안에서 정의해준거니까.\n",
    "print(input_x) # input_x는 함수 안에서는 사용 가능한데, 밖에서는 사용 불가함. 얘도 마찬가지."
   ]
  },
  {
   "cell_type": "markdown",
   "metadata": {},
   "source": [
    "### 변수(데이터가 저장되어 있는 공간의 이름)의 종류\n",
    "1. 전역 변수 (전체 영역에서 사용 가능한 변수라고 생각하쇼)\n",
    "    - 어디서든 사용이 가능한 변수\n",
    "    - 함수 내부에서든 외부에서든 사용이 가능  #들여쓰기가 하나도 안 되어있는 맨 앞부터 써있는 변수임.\n",
    "2. 지역 변수 (일부에서만, 지역에서만 사용 가능한 변수라고 생각하쇼)\n",
    "    - 특정한 영역에서만 사용이 가능한 변수\n",
    "    - 함수, 클래스 안에서만 사용이 가능한 변수\n",
    "    - 해당 영역을 벗어나면 사용이 불가능\n",
    "3. 매개 변수 (어찌보면 매개 변수도 지역 변수 안에 포함되어 있다고 보면 됨.)\n",
    "    - 함수를 선언할 때 만드는 변수\n",
    "    - 함수 내에서 인자값을 받아서 사용하기 위한 변수\n",
    "    - 함수 밖에서는 사용이 불가능(휘발성 데이터)"
   ]
  },
  {
   "cell_type": "code",
   "execution_count": 76,
   "metadata": {},
   "outputs": [
    {
     "name": "stdout",
     "output_type": "stream",
     "text": [
      "Hello World\n"
     ]
    }
   ],
   "source": [
    "text = 'Hello World'  #들여쓰기가 안 되어있는 곳에 있는 text이기 때문에 여기서 text는 전역 변수임.\n",
    "\n",
    "print(text)"
   ]
  },
  {
   "cell_type": "code",
   "execution_count": 78,
   "metadata": {},
   "outputs": [
    {
     "name": "stdout",
     "output_type": "stream",
     "text": [
      "Hi\n"
     ]
    }
   ],
   "source": [
    "def func_12():\n",
    "    _text = 'Hi' #들여쓰기가 되어있는 곳에 있는 _text이기 때문에 여기서 text는 지역 변수임.\n",
    "    return _text\n",
    "\n",
    "print(func_12())"
   ]
  },
  {
   "cell_type": "code",
   "execution_count": 80,
   "metadata": {},
   "outputs": [
    {
     "name": "stdout",
     "output_type": "stream",
     "text": [
      "Hello World\n"
     ]
    },
    {
     "ename": "NameError",
     "evalue": "name '_text' is not defined",
     "output_type": "error",
     "traceback": [
      "\u001b[1;31m---------------------------------------------------------------------------\u001b[0m",
      "\u001b[1;31mNameError\u001b[0m                                 Traceback (most recent call last)",
      "\u001b[1;32md:\\sjh\\sjh-ezen-pandas2\\230910\\01_function.ipynb 셀 45\u001b[0m line \u001b[0;36m2\n\u001b[0;32m      <a href='vscode-notebook-cell:/d%3A/sjh/sjh-ezen-pandas2/230910/01_function.ipynb#Y101sZmlsZQ%3D%3D?line=0'>1</a>\u001b[0m \u001b[39mprint\u001b[39m(text) \u001b[39m#text는 전역에서 사용가능하기 때문에 출력이 됨.\u001b[39;00m\n\u001b[1;32m----> <a href='vscode-notebook-cell:/d%3A/sjh/sjh-ezen-pandas2/230910/01_function.ipynb#Y101sZmlsZQ%3D%3D?line=1'>2</a>\u001b[0m \u001b[39mprint\u001b[39m(_text) \u001b[39m#근데 _text는 해당하는 영역 안에서만 가능하기 때문에 여기서는 출력 불가 함. func_12 영역을 벗어났으니까.\u001b[39;00m\n",
      "\u001b[1;31mNameError\u001b[0m: name '_text' is not defined"
     ]
    }
   ],
   "source": [
    "print(text) #text는 전역에서 사용가능하기 때문에 출력이 됨.\n",
    "print(_text) #근데 _text는 해당하는 영역 안에서만 가능하기 때문에 여기서는 출력 불가 함. func_12 영역을 벗어났으니까."
   ]
  },
  {
   "cell_type": "code",
   "execution_count": 90,
   "metadata": {},
   "outputs": [],
   "source": [
    "## 지혜 풀이_어려워서 못함.\n",
    "# 함수 문제\n",
    "# 배열 데이터를 입력받아서 해당하는 배열을 제곱한 리스트를 출력하는 함수\n",
    "# 예를 들어서 [1,2,3,4]를 입력했을 때 -> [1,4,9,16]을 출력하는 함수를 만드는 거임.\n",
    "\n",
    "# 함수를 생성 (매개변수(x) 1개 -> 입력값은 배열 데이터)\n",
    "def func_j1(x):\n",
    "    # 비어 있는 리스트 하나 생성\n",
    "    list_1=[]\n",
    "    # 배열 데이터를 반복하는 반복문을 생성\n",
    "    for i in list_1:  ## 여기를 잘못했넹. 왜 굳이 비어있는 list_1을 가져옴??ㅋㅋ\n",
    "        # 배열 데이터 하나씩 추출하여 제곱한 뒤 비어 있는 리스트에 추가\n",
    "        list_1 = list_1.append(i**2)\n",
    "    # 비어 있는 리스트를 되돌려준다.\n",
    "    return list_1\n",
    "    "
   ]
  },
  {
   "cell_type": "code",
   "execution_count": 91,
   "metadata": {},
   "outputs": [
    {
     "name": "stdout",
     "output_type": "stream",
     "text": [
      "[]\n"
     ]
    }
   ],
   "source": [
    "print(func_j1([1,2,3,4]))"
   ]
  },
  {
   "cell_type": "code",
   "execution_count": 92,
   "metadata": {},
   "outputs": [
    {
     "name": "stdout",
     "output_type": "stream",
     "text": [
      "[1, 4, 9, 16]\n"
     ]
    }
   ],
   "source": [
    "## 선생님 풀이\n",
    "# 함수 문제\n",
    "# 배열 데이터를 입력받아서 해당하는 배열을 제곱한 리스트를 출력하는 함수\n",
    "# 예를 들어서 [1,2,3,4]를 입력했을 때 -> [1,4,9,16]을 출력하는 함수를 만드는 거임.\n",
    "\n",
    "# 함수를 생성 (매개변수(x) 1개 -> 입력값은 배열 데이터)\n",
    "def func_13(x):\n",
    "    # 비어 있는 리스트 하나 생성\n",
    "    result = []\n",
    "    # 배열 데이터를 반복하는 반복문을 생성\n",
    "    for i in x:\n",
    "        # 배열 데이터 하나씩 추출하여 제곱한 뒤 비어 있는 리스트에 추가\n",
    "        result.append(i**2)\n",
    "    # 비어 있는 리스트를 되돌려준다.\n",
    "    return result\n",
    "\n",
    "print(func_13([1,2,3,4]))    "
   ]
  },
  {
   "cell_type": "code",
   "execution_count": 93,
   "metadata": {},
   "outputs": [
    {
     "name": "stdout",
     "output_type": "stream",
     "text": [
      "[1, 4, 9, 16]\n"
     ]
    }
   ],
   "source": [
    "# while문 함수로 생성\n",
    "def func_14(x):\n",
    "    result = []\n",
    "    \n",
    "    i = 0\n",
    "    \n",
    "    while i < len(x):\n",
    "        # i 데이터는? -> x의 위치값\n",
    "        result.append(x[i]**2)\n",
    "        # 증감식 생성\n",
    "        i += 1\n",
    "    \n",
    "    return result\n",
    "\n",
    "print(func_14([1,2,3,4]))"
   ]
  },
  {
   "cell_type": "code",
   "execution_count": 96,
   "metadata": {},
   "outputs": [
    {
     "name": "stdout",
     "output_type": "stream",
     "text": [
      "[1, 4, 9, 16]\n"
     ]
    }
   ],
   "source": [
    "a = [1,2,3,4]\n",
    "\n",
    "def func_15(x):\n",
    "    # 지역 변수 result\n",
    "    result = x ** 2\n",
    "    return result\n",
    "\n",
    "# 전역 변수 result\n",
    "result = []  #함수 안에 있는 result(지역변수)와 이 result(전역변수)는 다른 값임. \n",
    "\n",
    "for i in a:\n",
    "    result.append(func_15(i))\n",
    "    \n",
    "print(result)  #이 result는 전역 변수 result임."
   ]
  },
  {
   "cell_type": "code",
   "execution_count": 97,
   "metadata": {},
   "outputs": [
    {
     "name": "stdout",
     "output_type": "stream",
     "text": [
      "[1, 4, 9, 16]\n"
     ]
    }
   ],
   "source": [
    "# map 함수 ##map은 명확하게 알아두면 유용하게 쓸 수 있으니, 이해와 연습 많이 해두기.\n",
    "# map({호출할 함수명}, {리스트명})\n",
    "# 리스트의 데이터 하나하나씩을 함수에 대입하여 새로운 값들로 만들어준다.(데이터의 타입이 map)\n",
    "# list()함수를 이용하여 배열의 형태로 변경\n",
    "print(list(map(func_15, a))) #func_15 뒤에 소괄호가 없음. map이라는 함수는 그냥 함수 이름을 쓰고, 뒤에 리스트 a를 쓰면 a의 데이터 값을 하나씩 갖다가 써줌.\n"
   ]
  },
  {
   "cell_type": "code",
   "execution_count": 98,
   "metadata": {},
   "outputs": [
    {
     "data": {
      "text/plain": [
       "[1, 4, 9, 16]"
      ]
     },
     "execution_count": 98,
     "metadata": {},
     "output_type": "execute_result"
    }
   ],
   "source": [
    "# lambda 함수(좀 단순한 연산을 할 때는 람다함수를 쓸거)\n",
    "# 함수를 선언함과 동시에 호출\n",
    "list(\n",
    "    map(\n",
    "        lambda x : x ** 2,  # 매개 변수를 쓰고 : 리턴할 값을 씀. 그리고\n",
    "        a # 람다 함수의 뒤는 리스트명을 쓰는 거임.\n",
    "    )    \n",
    ")"
   ]
  },
  {
   "cell_type": "code",
   "execution_count": null,
   "metadata": {},
   "outputs": [],
   "source": []
  }
 ],
 "metadata": {
  "kernelspec": {
   "display_name": "Python 3",
   "language": "python",
   "name": "python3"
  },
  "language_info": {
   "codemirror_mode": {
    "name": "ipython",
    "version": 3
   },
   "file_extension": ".py",
   "mimetype": "text/x-python",
   "name": "python",
   "nbconvert_exporter": "python",
   "pygments_lexer": "ipython3",
   "version": "3.11.5"
  },
  "orig_nbformat": 4
 },
 "nbformat": 4,
 "nbformat_minor": 2
}
